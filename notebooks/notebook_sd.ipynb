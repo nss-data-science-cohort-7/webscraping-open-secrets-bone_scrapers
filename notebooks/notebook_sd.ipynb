{
 "cells": [
  {
   "cell_type": "code",
   "execution_count": 1,
   "metadata": {},
   "outputs": [],
   "source": [
    "import requests\n",
    "from bs4 import BeautifulSoup\n",
    "import pandas as pd\n",
    "import re"
   ]
  },
  {
   "cell_type": "code",
   "execution_count": null,
   "metadata": {},
   "outputs": [],
   "source": [
    "URL = \"https://www.opensecrets.org/races/candidates?cycle=2020&id=TN07&spec=N\"\n",
    "response = requests.get(URL)\n",
    "soup = BeautifulSoup(response.text)\n",
    "print(soup.prettify())"
   ]
  },
  {
   "cell_type": "code",
   "execution_count": 6,
   "metadata": {},
   "outputs": [],
   "source": [
    "member_divs = soup.findAll(\"div\", attrs={'class' : 'Members--list-item'})"
   ]
  },
  {
   "cell_type": "code",
   "execution_count": 74,
   "metadata": {},
   "outputs": [
    {
     "data": {
      "text/plain": [
       "4"
      ]
     },
     "execution_count": 74,
     "metadata": {},
     "output_type": "execute_result"
    }
   ],
   "source": [
    "len(member_divs)"
   ]
  },
  {
   "cell_type": "code",
   "execution_count": 80,
   "metadata": {},
   "outputs": [
    {
     "data": {
      "text/plain": [
       "'R'"
      ]
     },
     "execution_count": 80,
     "metadata": {},
     "output_type": "execute_result"
    }
   ],
   "source": [
    "member_divs = soup.findAll(\"div\", attrs={'class' : 'Members--list-item'})\n",
    "candidate_text = member_divs[0].find(\"a\").text\n",
    "affiliation = re.findall(r\"\\([A-Z]\\)\", candidate_text)[0][1]\n",
    "affiliation\n",
    "# t = member_divs[1].find(\"h2\").find(\"strong\").text.strip()\n",
    "# candidate_info = re.findall(r\"[^\\n\\t+]+\", t)\n",
    "# affiliation = re.findall(r\"\\([A-Z]\\)\", candidate_info[0])[0][1]\n",
    "# name = re.sub(r\"\\([A-Z]\\)\", \"\", candidate_info[0]).strip()\n",
    "# name\n",
    "\n",
    "# rr = re.findall(r\"\\([A-Z]\\)\", t)[0]\n",
    "# rr[1]\n",
    "# re.findall(r\"Incumbent\", t)\n",
    "# t=re.sub(r\"\\([A-Z]\\)\",\"\",t)\n",
    "# t= re.sub(r\"Incumbent\", \"\", t)\n",
    "# t = re.sub(\"[^0-9a-zA-Z\\s]+\", \"\", t)\n",
    "# t.strip()\n",
    "# t"
   ]
  },
  {
   "cell_type": "code",
   "execution_count": 108,
   "metadata": {},
   "outputs": [],
   "source": [
    "def get_candidate_info(member_div):\n",
    "    \n",
    "    results = {\"Name\": \"\", \"Affiliation\": \"\", \"Incumbent\": 0, \"Winner\": 0, \"Vote %\": \"\"}\n",
    "    if member_div.find(\"a\") != None:\n",
    "        candidate_text = member_div.find(\"a\").text\n",
    "        affiliation = re.findall(r\"\\([A-Z]\\)\", candidate_text)[0][1]\n",
    "        incumbent = 1 if \"Incumbent\" in candidate_text else 0\n",
    "        results[\"Incumbent\"] = incumbent\n",
    "        candidate_text=re.sub(r\"\\([A-Z]\\)\",\"\",candidate_text)\n",
    "        candidate_text= re.sub(r\"Incumbent\", \"\", candidate_text)\n",
    "        name = re.sub(\"[^0-9a-zA-Z\\s]+\", \"\", candidate_text)\n",
    "\n",
    "    else:\n",
    "        txt = member_div.find(\"h2\").find(\"strong\").text.strip()\n",
    "        candidate_info = re.findall(r\"[^\\n\\t+]+\", txt)\n",
    "        affiliation = re.findall(r\"\\([A-Z]\\)\", candidate_info[0])[0][1]\n",
    "        name = re.sub(r\"\\([A-Z]\\)\", \"\", candidate_info[0]).strip()\n",
    "    if member_div.find(\"span\", attrs={'class' : 'winner'}):\n",
    "        results[\"Winner\"] = 1\n",
    "    votepct = member_div.find(\"span\", attrs={'class' : 'Members--vote-pct'}).text if member_div.find(\"span\", attrs={'class' : 'Members--vote-pct'}) else \"\"\n",
    "    re.findall(r\"\\d+\\.\\d+%\", votepct)\n",
    "    results[\"Name\"] = name\n",
    "    results[\"Affiliation\"] = affiliation\n",
    "        \n",
    "    return results\n",
    "\n"
   ]
  },
  {
   "cell_type": "code",
   "execution_count": 94,
   "metadata": {},
   "outputs": [
    {
     "data": {
      "text/plain": [
       "'https://www.opensecrets.org/races/candidates?cycle=2020&id=TN07&spec=N'"
      ]
     },
     "execution_count": 94,
     "metadata": {},
     "output_type": "execute_result"
    }
   ],
   "source": [
    "URL"
   ]
  },
  {
   "cell_type": "code",
   "execution_count": 99,
   "metadata": {},
   "outputs": [
    {
     "data": {
      "text/plain": [
       "'07'"
      ]
     },
     "execution_count": 99,
     "metadata": {},
     "output_type": "execute_result"
    }
   ],
   "source": [
    "state_districtnum = re.findall(r'[A-Z][A-Z]\\d+', URL)[0]\n",
    "state = state_districtnum[:2]\n",
    "districtnum = re.findall(r'\\d+',state_districtnum)[0]\n",
    "districtnum"
   ]
  },
  {
   "cell_type": "code",
   "execution_count": 112,
   "metadata": {},
   "outputs": [
    {
     "data": {
      "text/plain": [
       "{'Name': 'Scott Vieira Jr', 'Affiliation': 'I', 'Incumbent': 0, 'Winner': 0}"
      ]
     },
     "execution_count": 112,
     "metadata": {},
     "output_type": "execute_result"
    }
   ],
   "source": [
    "get_candidate_info(member_divs[3])"
   ]
  },
  {
   "cell_type": "code",
   "execution_count": 126,
   "metadata": {},
   "outputs": [
    {
     "data": {
      "text/plain": [
       "['0.6%']"
      ]
     },
     "execution_count": 126,
     "metadata": {},
     "output_type": "execute_result"
    }
   ],
   "source": [
    "votepct = member_divs[3].find(\"span\", attrs={'class' : 'Members--vote-pct'}).text\n",
    "re.findall(r\"\\d+\\.\\d+%\", votepct)\n"
   ]
  },
  {
   "cell_type": "code",
   "execution_count": 121,
   "metadata": {},
   "outputs": [
    {
     "data": {
      "text/plain": [
       "'(27.3% of vote)'"
      ]
     },
     "execution_count": 121,
     "metadata": {},
     "output_type": "execute_result"
    }
   ],
   "source": [
    "votepct"
   ]
  },
  {
   "cell_type": "code",
   "execution_count": null,
   "metadata": {},
   "outputs": [],
   "source": []
  }
 ],
 "metadata": {
  "kernelspec": {
   "display_name": "base",
   "language": "python",
   "name": "python3"
  },
  "language_info": {
   "codemirror_mode": {
    "name": "ipython",
    "version": 3
   },
   "file_extension": ".py",
   "mimetype": "text/x-python",
   "name": "python",
   "nbconvert_exporter": "python",
   "pygments_lexer": "ipython3",
   "version": "3.11.3"
  },
  "orig_nbformat": 4
 },
 "nbformat": 4,
 "nbformat_minor": 2
}
