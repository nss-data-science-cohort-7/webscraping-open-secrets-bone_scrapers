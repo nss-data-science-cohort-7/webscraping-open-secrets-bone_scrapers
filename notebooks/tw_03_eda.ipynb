{
 "cells": [
  {
   "cell_type": "code",
   "execution_count": 1,
   "metadata": {},
   "outputs": [],
   "source": [
    "import pandas as pd\n",
    "import matplotlib.pyplot as plt\n",
    "import seaborn as sns\n",
    "import statsmodels.formula.api as smf\n",
    "import numpy as np"
   ]
  },
  {
   "cell_type": "code",
   "execution_count": 2,
   "metadata": {},
   "outputs": [
    {
     "data": {
      "text/html": [
       "<div>\n",
       "<style scoped>\n",
       "    .dataframe tbody tr th:only-of-type {\n",
       "        vertical-align: middle;\n",
       "    }\n",
       "\n",
       "    .dataframe tbody tr th {\n",
       "        vertical-align: top;\n",
       "    }\n",
       "\n",
       "    .dataframe thead th {\n",
       "        text-align: right;\n",
       "    }\n",
       "</style>\n",
       "<table border=\"1\" class=\"dataframe\">\n",
       "  <thead>\n",
       "    <tr style=\"text-align: right;\">\n",
       "      <th></th>\n",
       "      <th>candidate_name</th>\n",
       "      <th>party</th>\n",
       "      <th>incumbent</th>\n",
       "      <th>winner</th>\n",
       "      <th>perc_vote</th>\n",
       "      <th>money_raised</th>\n",
       "      <th>money_spent</th>\n",
       "      <th>state_name</th>\n",
       "      <th>district</th>\n",
       "      <th>state_dist</th>\n",
       "      <th>perc_vote_max</th>\n",
       "      <th>winner_bool</th>\n",
       "    </tr>\n",
       "  </thead>\n",
       "  <tbody>\n",
       "    <tr>\n",
       "      <th>0</th>\n",
       "      <td>Jerry Carl</td>\n",
       "      <td>R</td>\n",
       "      <td>0</td>\n",
       "      <td>1</td>\n",
       "      <td>64.9</td>\n",
       "      <td>1971321</td>\n",
       "      <td>1859349</td>\n",
       "      <td>AL</td>\n",
       "      <td>01</td>\n",
       "      <td>AL01</td>\n",
       "      <td>64.9</td>\n",
       "      <td>1</td>\n",
       "    </tr>\n",
       "    <tr>\n",
       "      <th>1</th>\n",
       "      <td>James Averhart</td>\n",
       "      <td>D</td>\n",
       "      <td>0</td>\n",
       "      <td>0</td>\n",
       "      <td>35.0</td>\n",
       "      <td>80095</td>\n",
       "      <td>78973</td>\n",
       "      <td>AL</td>\n",
       "      <td>01</td>\n",
       "      <td>AL01</td>\n",
       "      <td>64.9</td>\n",
       "      <td>0</td>\n",
       "    </tr>\n",
       "    <tr>\n",
       "      <th>2</th>\n",
       "      <td>Barry Moore</td>\n",
       "      <td>R</td>\n",
       "      <td>0</td>\n",
       "      <td>1</td>\n",
       "      <td>65.3</td>\n",
       "      <td>650807</td>\n",
       "      <td>669368</td>\n",
       "      <td>AL</td>\n",
       "      <td>02</td>\n",
       "      <td>AL02</td>\n",
       "      <td>65.3</td>\n",
       "      <td>1</td>\n",
       "    </tr>\n",
       "    <tr>\n",
       "      <th>3</th>\n",
       "      <td>Phyllis Harvey-Hall</td>\n",
       "      <td>D</td>\n",
       "      <td>0</td>\n",
       "      <td>0</td>\n",
       "      <td>34.6</td>\n",
       "      <td>56050</td>\n",
       "      <td>55988</td>\n",
       "      <td>AL</td>\n",
       "      <td>02</td>\n",
       "      <td>AL02</td>\n",
       "      <td>65.3</td>\n",
       "      <td>0</td>\n",
       "    </tr>\n",
       "    <tr>\n",
       "      <th>4</th>\n",
       "      <td>Mike D Rogers</td>\n",
       "      <td>R</td>\n",
       "      <td>1</td>\n",
       "      <td>1</td>\n",
       "      <td>67.5</td>\n",
       "      <td>1193111</td>\n",
       "      <td>1218564</td>\n",
       "      <td>AL</td>\n",
       "      <td>03</td>\n",
       "      <td>AL03</td>\n",
       "      <td>67.5</td>\n",
       "      <td>1</td>\n",
       "    </tr>\n",
       "  </tbody>\n",
       "</table>\n",
       "</div>"
      ],
      "text/plain": [
       "        candidate_name party  incumbent  winner  perc_vote  money_raised  \\\n",
       "0           Jerry Carl     R          0       1       64.9       1971321   \n",
       "1       James Averhart     D          0       0       35.0         80095   \n",
       "2          Barry Moore     R          0       1       65.3        650807   \n",
       "3  Phyllis Harvey-Hall     D          0       0       34.6         56050   \n",
       "4        Mike D Rogers     R          1       1       67.5       1193111   \n",
       "\n",
       "   money_spent state_name district state_dist  perc_vote_max  winner_bool  \n",
       "0      1859349         AL       01       AL01           64.9            1  \n",
       "1        78973         AL       01       AL01           64.9            0  \n",
       "2       669368         AL       02       AL02           65.3            1  \n",
       "3        55988         AL       02       AL02           65.3            0  \n",
       "4      1218564         AL       03       AL03           67.5            1  "
      ]
     },
     "execution_count": 2,
     "metadata": {},
     "output_type": "execute_result"
    }
   ],
   "source": [
    "candidates = pd.read_csv('../data/candidates_clean.csv', dtype = {'district': 'str'}) # refactor to explicitly set district as string\n",
    "\n",
    "candidates.head()"
   ]
  },
  {
   "cell_type": "code",
   "execution_count": 3,
   "metadata": {},
   "outputs": [
    {
     "name": "stdout",
     "output_type": "stream",
     "text": [
      "<class 'pandas.core.frame.DataFrame'>\n",
      "RangeIndex: 883 entries, 0 to 882\n",
      "Data columns (total 12 columns):\n",
      " #   Column          Non-Null Count  Dtype  \n",
      "---  ------          --------------  -----  \n",
      " 0   candidate_name  883 non-null    object \n",
      " 1   party           883 non-null    object \n",
      " 2   incumbent       883 non-null    int64  \n",
      " 3   winner          883 non-null    int64  \n",
      " 4   perc_vote       883 non-null    float64\n",
      " 5   money_raised    883 non-null    int64  \n",
      " 6   money_spent     883 non-null    int64  \n",
      " 7   state_name      883 non-null    object \n",
      " 8   district        883 non-null    object \n",
      " 9   state_dist      883 non-null    object \n",
      " 10  perc_vote_max   883 non-null    float64\n",
      " 11  winner_bool     883 non-null    int64  \n",
      "dtypes: float64(2), int64(5), object(5)\n",
      "memory usage: 82.9+ KB\n"
     ]
    }
   ],
   "source": [
    "candidates.info()"
   ]
  },
  {
   "cell_type": "code",
   "execution_count": 4,
   "metadata": {},
   "outputs": [
    {
     "data": {
      "text/plain": [
       "D    419\n",
       "R    382\n",
       "I     46\n",
       "L     21\n",
       "3     15\n",
       "Name: party, dtype: int64"
      ]
     },
     "execution_count": 4,
     "metadata": {},
     "output_type": "execute_result"
    }
   ],
   "source": [
    "candidates['party'].value_counts()"
   ]
  },
  {
   "cell_type": "code",
   "execution_count": 5,
   "metadata": {},
   "outputs": [
    {
     "data": {
      "image/png": "[encoded data removed]",
      "text/plain": [
       "<Figure size 1000x600 with 1 Axes>"
      ]
     },
     "metadata": {},
     "output_type": "display_data"
    }
   ],
   "source": [
    "plt.figure(figsize = (10, 6))\n",
    "fontsize = 14\n",
    "x_labels = ['Democrat', 'Republican', 'Independent', 'Libertarian', '3rd Party']\n",
    "x_ticks = [0, 1, 2, 3, 4]\n",
    "color = '#008ad1'\n",
    "\n",
    "candidates['party'].value_counts().plot(kind = 'bar', color = color)\n",
    "plt.xticks(rotation = 0, labels = x_labels, ticks = x_ticks, fontsize = fontsize)\n",
    "plt.yticks(fontsize = fontsize)\n",
    "plt.title('2020 House Candidates by Party Affiliation', fontsize = fontsize + 2, weight = 'bold')\n",
    "plt.tight_layout();\n",
    "plt.savefig('../assets/party_affiliation.png', dpi = 150);"
   ]
  },
  {
   "cell_type": "code",
   "execution_count": 6,
   "metadata": {},
   "outputs": [
    {
     "data": {
      "text/html": [
       "<div>\n",
       "<style scoped>\n",
       "    .dataframe tbody tr th:only-of-type {\n",
       "        vertical-align: middle;\n",
       "    }\n",
       "\n",
       "    .dataframe tbody tr th {\n",
       "        vertical-align: top;\n",
       "    }\n",
       "\n",
       "    .dataframe thead th {\n",
       "        text-align: right;\n",
       "    }\n",
       "</style>\n",
       "<table border=\"1\" class=\"dataframe\">\n",
       "  <thead>\n",
       "    <tr style=\"text-align: right;\">\n",
       "      <th></th>\n",
       "      <th>candidate_name</th>\n",
       "      <th>party</th>\n",
       "      <th>incumbent</th>\n",
       "      <th>winner</th>\n",
       "      <th>perc_vote</th>\n",
       "      <th>money_raised</th>\n",
       "      <th>money_spent</th>\n",
       "      <th>state_name</th>\n",
       "      <th>district</th>\n",
       "      <th>state_dist</th>\n",
       "      <th>perc_vote_max</th>\n",
       "      <th>winner_bool</th>\n",
       "    </tr>\n",
       "  </thead>\n",
       "  <tbody>\n",
       "  </tbody>\n",
       "</table>\n",
       "</div>"
      ],
      "text/plain": [
       "Empty DataFrame\n",
       "Columns: [candidate_name, party, incumbent, winner, perc_vote, money_raised, money_spent, state_name, district, state_dist, perc_vote_max, winner_bool]\n",
       "Index: []"
      ]
     },
     "execution_count": 6,
     "metadata": {},
     "output_type": "execute_result"
    }
   ],
   "source": [
    "candidates.loc[(candidates['party'].isin(['I', 'L', '3'])) & (candidates['winner'] == 1)]\n",
    "\n",
    "# no independent or 3rd party candidate won a race"
   ]
  },
  {
   "cell_type": "code",
   "execution_count": 7,
   "metadata": {},
   "outputs": [
    {
     "data": {
      "text/html": [
       "<div>\n",
       "<style scoped>\n",
       "    .dataframe tbody tr th:only-of-type {\n",
       "        vertical-align: middle;\n",
       "    }\n",
       "\n",
       "    .dataframe tbody tr th {\n",
       "        vertical-align: top;\n",
       "    }\n",
       "\n",
       "    .dataframe thead th {\n",
       "        text-align: right;\n",
       "    }\n",
       "</style>\n",
       "<table border=\"1\" class=\"dataframe\">\n",
       "  <thead>\n",
       "    <tr style=\"text-align: right;\">\n",
       "      <th></th>\n",
       "      <th>candidate_name</th>\n",
       "      <th>party</th>\n",
       "      <th>incumbent</th>\n",
       "      <th>winner</th>\n",
       "      <th>perc_vote</th>\n",
       "      <th>money_raised</th>\n",
       "      <th>money_spent</th>\n",
       "      <th>state_name</th>\n",
       "      <th>district</th>\n",
       "      <th>state_dist</th>\n",
       "      <th>perc_vote_max</th>\n",
       "      <th>winner_bool</th>\n",
       "    </tr>\n",
       "  </thead>\n",
       "  <tbody>\n",
       "    <tr>\n",
       "      <th>264</th>\n",
       "      <td>Ed Case</td>\n",
       "      <td>D</td>\n",
       "      <td>1</td>\n",
       "      <td>0</td>\n",
       "      <td>64.7</td>\n",
       "      <td>508249</td>\n",
       "      <td>472569</td>\n",
       "      <td>HI</td>\n",
       "      <td>01</td>\n",
       "      <td>HI01</td>\n",
       "      <td>64.7</td>\n",
       "      <td>1</td>\n",
       "    </tr>\n",
       "    <tr>\n",
       "      <th>664</th>\n",
       "      <td>Scott Perry</td>\n",
       "      <td>R</td>\n",
       "      <td>1</td>\n",
       "      <td>0</td>\n",
       "      <td>53.4</td>\n",
       "      <td>3956481</td>\n",
       "      <td>3839197</td>\n",
       "      <td>PA</td>\n",
       "      <td>10</td>\n",
       "      <td>PA10</td>\n",
       "      <td>53.4</td>\n",
       "      <td>1</td>\n",
       "    </tr>\n",
       "  </tbody>\n",
       "</table>\n",
       "</div>"
      ],
      "text/plain": [
       "    candidate_name party  incumbent  winner  perc_vote  money_raised  \\\n",
       "264        Ed Case     D          1       0       64.7        508249   \n",
       "664    Scott Perry     R          1       0       53.4       3956481   \n",
       "\n",
       "     money_spent state_name district state_dist  perc_vote_max  winner_bool  \n",
       "264       472569         HI       01       HI01           64.7            1  \n",
       "664      3839197         PA       10       PA10           53.4            1  "
      ]
     },
     "execution_count": 7,
     "metadata": {},
     "output_type": "execute_result"
    }
   ],
   "source": [
    "candidates.loc[candidates['winner'] != candidates['winner_bool']]\n",
    "\n",
    "# confirmation that 2 districts didn't have a winner marked and that the added column is behaving as expected"
   ]
  },
  {
   "cell_type": "code",
   "execution_count": 8,
   "metadata": {},
   "outputs": [
    {
     "data": {
      "text/plain": [
       "D    221\n",
       "R    210\n",
       "Name: party, dtype: int64"
      ]
     },
     "execution_count": 8,
     "metadata": {},
     "output_type": "execute_result"
    }
   ],
   "source": [
    "candidates['party'].loc[candidates['winner'] == 1].value_counts()"
   ]
  },
  {
   "cell_type": "code",
   "execution_count": 9,
   "metadata": {},
   "outputs": [
    {
     "data": {
      "image/png": "[encoded data removed]",
      "text/plain": [
       "<Figure size 1000x600 with 1 Axes>"
      ]
     },
     "metadata": {},
     "output_type": "display_data"
    }
   ],
   "source": [
    "plt.figure(figsize = (10, 6))\n",
    "fontsize = 14\n",
    "x_labels = ['Democrat', 'Republican', 'Independent', 'Libertarian', '3rd Party']\n",
    "x_ticks = [0, 1, 2, 3, 4]\n",
    "color = '#008ad1'\n",
    "candidates['party'].loc[candidates['winner'] == 1].value_counts().plot(kind = 'bar', color = color)\n",
    "plt.xticks(rotation = 0, labels = x_labels, ticks = x_ticks, fontsize = fontsize)\n",
    "plt.yticks(fontsize = fontsize)\n",
    "plt.title('2020 Winning Candidates by Party Affiliation', fontsize = fontsize + 2, weight = 'bold')\n",
    "plt.tight_layout();\n",
    "plt.savefig('../assets/party_affiliation_winners.png', dpi = 150);"
   ]
  },
  {
   "cell_type": "markdown",
   "metadata": {},
   "source": [
    "### how many races didn't have an incumbant running? How does that correlate with number of candidates in the race?"
   ]
  },
  {
   "cell_type": "markdown",
   "metadata": {},
   "source": [
    "### How often does the candidate who raised more money win a race?"
   ]
  },
  {
   "cell_type": "markdown",
   "metadata": {},
   "source": [
    "Partition by state and district, sort by money_raised, qualify row_num = 1 (to only have the person from each race who raised the most money). Chart value_counts of winner column."
   ]
  },
  {
   "cell_type": "code",
   "execution_count": 10,
   "metadata": {},
   "outputs": [],
   "source": [
    "# new column with max raised in each district race\n",
    "candidates['max_raised'] = candidates.groupby(['state_name', 'district'])['money_raised'].transform('max')"
   ]
  },
  {
   "cell_type": "code",
   "execution_count": 11,
   "metadata": {},
   "outputs": [],
   "source": [
    "raised_winner = candidates.loc[candidates['money_raised'] == candidates['max_raised']]"
   ]
  },
  {
   "cell_type": "code",
   "execution_count": 12,
   "metadata": {},
   "outputs": [
    {
     "data": {
      "text/plain": [
       "1    384\n",
       "0     49\n",
       "Name: winner, dtype: int64"
      ]
     },
     "execution_count": 12,
     "metadata": {},
     "output_type": "execute_result"
    }
   ],
   "source": [
    "raised_winner['winner'].value_counts()"
   ]
  },
  {
   "cell_type": "code",
   "execution_count": 13,
   "metadata": {},
   "outputs": [
    {
     "data": {
      "text/plain": [
       "<Figure size 1000x600 with 0 Axes>"
      ]
     },
     "metadata": {},
     "output_type": "display_data"
    },
    {
     "data": {
      "image/png": "[encoded data removed]",
      "text/plain": [
       "<Figure size 1000x600 with 1 Axes>"
      ]
     },
     "metadata": {},
     "output_type": "display_data"
    }
   ],
   "source": [
    "plt.figure(figsize = (10, 6))\n",
    "fontsize = 14\n",
    "x_labels = ['Won', 'Did not win']\n",
    "x_ticks = [0, 1]\n",
    "color = '#008ad1'\n",
    "\n",
    "plt.figure(figsize = (10,6))\n",
    "raised_winner['winner'].value_counts().plot(kind = 'bar',stacked = True, color = color)\n",
    "plt.xticks(rotation = 0, labels = x_labels, ticks = x_ticks, fontsize = fontsize)\n",
    "plt.yticks(fontsize = fontsize)\n",
    "plt.title('Does Raising More Money Equal a Win?', fontsize = fontsize + 2, weight = 'bold')\n",
    "plt.tight_layout();\n",
    "plt.savefig('../assets/money_raised_winners.png', dpi = 150);"
   ]
  },
  {
   "cell_type": "markdown",
   "metadata": {},
   "source": [
    "#### How often does the candidate who spent more money win a race?"
   ]
  },
  {
   "cell_type": "markdown",
   "metadata": {},
   "source": [
    "Same strategy as previous question."
   ]
  },
  {
   "cell_type": "code",
   "execution_count": 14,
   "metadata": {},
   "outputs": [
    {
     "data": {
      "text/plain": [
       "<Figure size 1000x600 with 0 Axes>"
      ]
     },
     "metadata": {},
     "output_type": "display_data"
    },
    {
     "data": {
      "image/png": "[encoded data removed]",
      "text/plain": [
       "<Figure size 1000x600 with 1 Axes>"
      ]
     },
     "metadata": {},
     "output_type": "display_data"
    }
   ],
   "source": [
    "# new column with max spent in each district race\n",
    "candidates['max_spent'] = candidates.groupby(['state_name', 'district'])['money_spent'].transform('max')\n",
    "\n",
    "spent_winner = candidates.loc[candidates['money_spent'] == candidates['max_spent']]\n",
    "\n",
    "plt.figure(figsize = (10, 6))\n",
    "fontsize = 14\n",
    "x_labels = ['Won', 'Did not win']\n",
    "x_ticks = [0, 1]\n",
    "color = '#008ad1'\n",
    "\n",
    "plt.figure(figsize = (10,6))\n",
    "spent_winner['winner'].value_counts().plot(kind = 'bar',stacked = True, color = color)\n",
    "plt.xticks(rotation = 0, labels = x_labels, ticks = x_ticks, fontsize = fontsize)\n",
    "plt.yticks(fontsize = fontsize)\n",
    "plt.title('Does Spending More Money Equal a Win?', fontsize = fontsize + 2, weight = 'bold')\n",
    "plt.tight_layout();\n",
    "plt.savefig('../assets/money_spent_winners.png', dpi = 150);\n",
    "\n",
    "# are the ones who raised and spent the most money mostly synonymous? Seems likely"
   ]
  },
  {
   "cell_type": "code",
   "execution_count": 15,
   "metadata": {},
   "outputs": [
    {
     "data": {
      "text/plain": [
       "1    381\n",
       "0     52\n",
       "Name: winner, dtype: int64"
      ]
     },
     "execution_count": 15,
     "metadata": {},
     "output_type": "execute_result"
    }
   ],
   "source": [
    "spent_winner['winner'].value_counts()"
   ]
  },
  {
   "cell_type": "markdown",
   "metadata": {},
   "source": [
    "#### Does the difference between either money raised or money spent seem to influence the likelihood of a candidate winning a race?"
   ]
  },
  {
   "cell_type": "markdown",
   "metadata": {},
   "source": [
    "strategy: filter to top 2 candidates in each race, new column calculating the total spent in the race, and a column calculating the difference between winner and 2nd place in $, plus % calculation\n"
   ]
  },
  {
   "cell_type": "code",
   "execution_count": 16,
   "metadata": {},
   "outputs": [
    {
     "data": {
      "text/html": [
       "<div>\n",
       "<style scoped>\n",
       "    .dataframe tbody tr th:only-of-type {\n",
       "        vertical-align: middle;\n",
       "    }\n",
       "\n",
       "    .dataframe tbody tr th {\n",
       "        vertical-align: top;\n",
       "    }\n",
       "\n",
       "    .dataframe thead th {\n",
       "        text-align: right;\n",
       "    }\n",
       "</style>\n",
       "<table border=\"1\" class=\"dataframe\">\n",
       "  <thead>\n",
       "    <tr style=\"text-align: right;\">\n",
       "      <th></th>\n",
       "      <th>candidate_name</th>\n",
       "      <th>party</th>\n",
       "      <th>incumbent</th>\n",
       "      <th>winner</th>\n",
       "      <th>perc_vote</th>\n",
       "      <th>money_raised</th>\n",
       "      <th>money_spent</th>\n",
       "      <th>state_name</th>\n",
       "      <th>district</th>\n",
       "      <th>state_dist</th>\n",
       "      <th>perc_vote_max</th>\n",
       "      <th>winner_bool</th>\n",
       "      <th>max_raised</th>\n",
       "      <th>max_spent</th>\n",
       "    </tr>\n",
       "  </thead>\n",
       "  <tbody>\n",
       "    <tr>\n",
       "      <th>0</th>\n",
       "      <td>Jerry Carl</td>\n",
       "      <td>R</td>\n",
       "      <td>0</td>\n",
       "      <td>1</td>\n",
       "      <td>64.9</td>\n",
       "      <td>1971321</td>\n",
       "      <td>1859349</td>\n",
       "      <td>AL</td>\n",
       "      <td>01</td>\n",
       "      <td>AL01</td>\n",
       "      <td>64.9</td>\n",
       "      <td>1</td>\n",
       "      <td>1971321</td>\n",
       "      <td>1859349</td>\n",
       "    </tr>\n",
       "    <tr>\n",
       "      <th>1</th>\n",
       "      <td>James Averhart</td>\n",
       "      <td>D</td>\n",
       "      <td>0</td>\n",
       "      <td>0</td>\n",
       "      <td>35.0</td>\n",
       "      <td>80095</td>\n",
       "      <td>78973</td>\n",
       "      <td>AL</td>\n",
       "      <td>01</td>\n",
       "      <td>AL01</td>\n",
       "      <td>64.9</td>\n",
       "      <td>0</td>\n",
       "      <td>1971321</td>\n",
       "      <td>1859349</td>\n",
       "    </tr>\n",
       "    <tr>\n",
       "      <th>2</th>\n",
       "      <td>Barry Moore</td>\n",
       "      <td>R</td>\n",
       "      <td>0</td>\n",
       "      <td>1</td>\n",
       "      <td>65.3</td>\n",
       "      <td>650807</td>\n",
       "      <td>669368</td>\n",
       "      <td>AL</td>\n",
       "      <td>02</td>\n",
       "      <td>AL02</td>\n",
       "      <td>65.3</td>\n",
       "      <td>1</td>\n",
       "      <td>650807</td>\n",
       "      <td>669368</td>\n",
       "    </tr>\n",
       "    <tr>\n",
       "      <th>3</th>\n",
       "      <td>Phyllis Harvey-Hall</td>\n",
       "      <td>D</td>\n",
       "      <td>0</td>\n",
       "      <td>0</td>\n",
       "      <td>34.6</td>\n",
       "      <td>56050</td>\n",
       "      <td>55988</td>\n",
       "      <td>AL</td>\n",
       "      <td>02</td>\n",
       "      <td>AL02</td>\n",
       "      <td>65.3</td>\n",
       "      <td>0</td>\n",
       "      <td>650807</td>\n",
       "      <td>669368</td>\n",
       "    </tr>\n",
       "    <tr>\n",
       "      <th>4</th>\n",
       "      <td>Mike D Rogers</td>\n",
       "      <td>R</td>\n",
       "      <td>1</td>\n",
       "      <td>1</td>\n",
       "      <td>67.5</td>\n",
       "      <td>1193111</td>\n",
       "      <td>1218564</td>\n",
       "      <td>AL</td>\n",
       "      <td>03</td>\n",
       "      <td>AL03</td>\n",
       "      <td>67.5</td>\n",
       "      <td>1</td>\n",
       "      <td>1193111</td>\n",
       "      <td>1218564</td>\n",
       "    </tr>\n",
       "  </tbody>\n",
       "</table>\n",
       "</div>"
      ],
      "text/plain": [
       "        candidate_name party  incumbent  winner  perc_vote  money_raised  \\\n",
       "0           Jerry Carl     R          0       1       64.9       1971321   \n",
       "1       James Averhart     D          0       0       35.0         80095   \n",
       "2          Barry Moore     R          0       1       65.3        650807   \n",
       "3  Phyllis Harvey-Hall     D          0       0       34.6         56050   \n",
       "4        Mike D Rogers     R          1       1       67.5       1193111   \n",
       "\n",
       "   money_spent state_name district state_dist  perc_vote_max  winner_bool  \\\n",
       "0      1859349         AL       01       AL01           64.9            1   \n",
       "1        78973         AL       01       AL01           64.9            0   \n",
       "2       669368         AL       02       AL02           65.3            1   \n",
       "3        55988         AL       02       AL02           65.3            0   \n",
       "4      1218564         AL       03       AL03           67.5            1   \n",
       "\n",
       "   max_raised  max_spent  \n",
       "0     1971321    1859349  \n",
       "1     1971321    1859349  \n",
       "2      650807     669368  \n",
       "3      650807     669368  \n",
       "4     1193111    1218564  "
      ]
     },
     "execution_count": 16,
     "metadata": {},
     "output_type": "execute_result"
    }
   ],
   "source": [
    "# filter to max 2 from each race\n",
    "\n",
    "candidates_top2 = candidates.iloc[candidates.reset_index().groupby('state_dist')['perc_vote'].nlargest(2).index.levels[1]] # refactor to account for the concat column I added above (easier, not strictly necessary)\n",
    "\n",
    "candidates_top2.head()"
   ]
  },
  {
   "cell_type": "code",
   "execution_count": 17,
   "metadata": {},
   "outputs": [
    {
     "data": {
      "text/plain": [
       "(806, 14)"
      ]
     },
     "execution_count": 17,
     "metadata": {},
     "output_type": "execute_result"
    }
   ],
   "source": [
    "candidates_top2.shape\n",
    "\n",
    "# full candidates df has 892 rows, seems like not too many races have more than 2 candidates (or many districts are uncontested)"
   ]
  },
  {
   "cell_type": "markdown",
   "metadata": {},
   "source": [
    "side question - how many races are uncontested? Even in Alabama with 7 districts, it looks like 4 of them were uncontested."
   ]
  },
  {
   "cell_type": "code",
   "execution_count": 18,
   "metadata": {},
   "outputs": [
    {
     "data": {
      "text/plain": [
       "60"
      ]
     },
     "execution_count": 18,
     "metadata": {},
     "output_type": "execute_result"
    }
   ],
   "source": [
    "(candidates_top2['state_dist'].value_counts() == 1).sum()\n",
    "\n",
    "# 60 seats uncontested, see what the guys think about including this kind of information and make a graph"
   ]
  },
  {
   "cell_type": "code",
   "execution_count": 19,
   "metadata": {},
   "outputs": [
    {
     "name": "stderr",
     "output_type": "stream",
     "text": [
      "/var/folders/xm/vmtk5pms0jzb2kmtm00lwtn80000gn/T/ipykernel_59456/3465422768.py:2: SettingWithCopyWarning: \n",
      "A value is trying to be set on a copy of a slice from a DataFrame.\n",
      "Try using .loc[row_indexer,col_indexer] = value instead\n",
      "\n",
      "See the caveats in the documentation: https://pandas.pydata.org/pandas-docs/stable/user_guide/indexing.html#returning-a-view-versus-a-copy\n",
      "  candidates_top2['total_raised'] = candidates_top2.groupby('state_dist')['money_raised'].transform('sum')\n",
      "/var/folders/xm/vmtk5pms0jzb2kmtm00lwtn80000gn/T/ipykernel_59456/3465422768.py:3: SettingWithCopyWarning: \n",
      "A value is trying to be set on a copy of a slice from a DataFrame.\n",
      "Try using .loc[row_indexer,col_indexer] = value instead\n",
      "\n",
      "See the caveats in the documentation: https://pandas.pydata.org/pandas-docs/stable/user_guide/indexing.html#returning-a-view-versus-a-copy\n",
      "  candidates_top2['total_spent'] = candidates_top2.groupby('state_dist')['money_spent'].transform('sum')\n",
      "/var/folders/xm/vmtk5pms0jzb2kmtm00lwtn80000gn/T/ipykernel_59456/3465422768.py:6: SettingWithCopyWarning: \n",
      "A value is trying to be set on a copy of a slice from a DataFrame.\n",
      "Try using .loc[row_indexer,col_indexer] = value instead\n",
      "\n",
      "See the caveats in the documentation: https://pandas.pydata.org/pandas-docs/stable/user_guide/indexing.html#returning-a-view-versus-a-copy\n",
      "  candidates_top2['perc_raised'] = candidates_top2['money_raised'] / candidates_top2['total_raised'] * 100\n",
      "/var/folders/xm/vmtk5pms0jzb2kmtm00lwtn80000gn/T/ipykernel_59456/3465422768.py:7: SettingWithCopyWarning: \n",
      "A value is trying to be set on a copy of a slice from a DataFrame.\n",
      "Try using .loc[row_indexer,col_indexer] = value instead\n",
      "\n",
      "See the caveats in the documentation: https://pandas.pydata.org/pandas-docs/stable/user_guide/indexing.html#returning-a-view-versus-a-copy\n",
      "  candidates_top2['perc_spent'] = candidates_top2['money_spent'] / candidates_top2['total_spent'] * 100\n"
     ]
    },
    {
     "data": {
      "text/html": [
       "<div>\n",
       "<style scoped>\n",
       "    .dataframe tbody tr th:only-of-type {\n",
       "        vertical-align: middle;\n",
       "    }\n",
       "\n",
       "    .dataframe tbody tr th {\n",
       "        vertical-align: top;\n",
       "    }\n",
       "\n",
       "    .dataframe thead th {\n",
       "        text-align: right;\n",
       "    }\n",
       "</style>\n",
       "<table border=\"1\" class=\"dataframe\">\n",
       "  <thead>\n",
       "    <tr style=\"text-align: right;\">\n",
       "      <th></th>\n",
       "      <th>candidate_name</th>\n",
       "      <th>party</th>\n",
       "      <th>incumbent</th>\n",
       "      <th>winner</th>\n",
       "      <th>perc_vote</th>\n",
       "      <th>money_raised</th>\n",
       "      <th>money_spent</th>\n",
       "      <th>state_name</th>\n",
       "      <th>district</th>\n",
       "      <th>state_dist</th>\n",
       "      <th>perc_vote_max</th>\n",
       "      <th>winner_bool</th>\n",
       "      <th>max_raised</th>\n",
       "      <th>max_spent</th>\n",
       "      <th>total_raised</th>\n",
       "      <th>total_spent</th>\n",
       "      <th>perc_raised</th>\n",
       "      <th>perc_spent</th>\n",
       "    </tr>\n",
       "  </thead>\n",
       "  <tbody>\n",
       "    <tr>\n",
       "      <th>0</th>\n",
       "      <td>Jerry Carl</td>\n",
       "      <td>R</td>\n",
       "      <td>0</td>\n",
       "      <td>1</td>\n",
       "      <td>64.9</td>\n",
       "      <td>1971321</td>\n",
       "      <td>1859349</td>\n",
       "      <td>AL</td>\n",
       "      <td>01</td>\n",
       "      <td>AL01</td>\n",
       "      <td>64.9</td>\n",
       "      <td>1</td>\n",
       "      <td>1971321</td>\n",
       "      <td>1859349</td>\n",
       "      <td>2051416</td>\n",
       "      <td>1938322</td>\n",
       "      <td>96.095624</td>\n",
       "      <td>95.925703</td>\n",
       "    </tr>\n",
       "    <tr>\n",
       "      <th>1</th>\n",
       "      <td>James Averhart</td>\n",
       "      <td>D</td>\n",
       "      <td>0</td>\n",
       "      <td>0</td>\n",
       "      <td>35.0</td>\n",
       "      <td>80095</td>\n",
       "      <td>78973</td>\n",
       "      <td>AL</td>\n",
       "      <td>01</td>\n",
       "      <td>AL01</td>\n",
       "      <td>64.9</td>\n",
       "      <td>0</td>\n",
       "      <td>1971321</td>\n",
       "      <td>1859349</td>\n",
       "      <td>2051416</td>\n",
       "      <td>1938322</td>\n",
       "      <td>3.904376</td>\n",
       "      <td>4.074297</td>\n",
       "    </tr>\n",
       "    <tr>\n",
       "      <th>2</th>\n",
       "      <td>Barry Moore</td>\n",
       "      <td>R</td>\n",
       "      <td>0</td>\n",
       "      <td>1</td>\n",
       "      <td>65.3</td>\n",
       "      <td>650807</td>\n",
       "      <td>669368</td>\n",
       "      <td>AL</td>\n",
       "      <td>02</td>\n",
       "      <td>AL02</td>\n",
       "      <td>65.3</td>\n",
       "      <td>1</td>\n",
       "      <td>650807</td>\n",
       "      <td>669368</td>\n",
       "      <td>706857</td>\n",
       "      <td>725356</td>\n",
       "      <td>92.070532</td>\n",
       "      <td>92.281307</td>\n",
       "    </tr>\n",
       "    <tr>\n",
       "      <th>3</th>\n",
       "      <td>Phyllis Harvey-Hall</td>\n",
       "      <td>D</td>\n",
       "      <td>0</td>\n",
       "      <td>0</td>\n",
       "      <td>34.6</td>\n",
       "      <td>56050</td>\n",
       "      <td>55988</td>\n",
       "      <td>AL</td>\n",
       "      <td>02</td>\n",
       "      <td>AL02</td>\n",
       "      <td>65.3</td>\n",
       "      <td>0</td>\n",
       "      <td>650807</td>\n",
       "      <td>669368</td>\n",
       "      <td>706857</td>\n",
       "      <td>725356</td>\n",
       "      <td>7.929468</td>\n",
       "      <td>7.718693</td>\n",
       "    </tr>\n",
       "    <tr>\n",
       "      <th>4</th>\n",
       "      <td>Mike D Rogers</td>\n",
       "      <td>R</td>\n",
       "      <td>1</td>\n",
       "      <td>1</td>\n",
       "      <td>67.5</td>\n",
       "      <td>1193111</td>\n",
       "      <td>1218564</td>\n",
       "      <td>AL</td>\n",
       "      <td>03</td>\n",
       "      <td>AL03</td>\n",
       "      <td>67.5</td>\n",
       "      <td>1</td>\n",
       "      <td>1193111</td>\n",
       "      <td>1218564</td>\n",
       "      <td>1243384</td>\n",
       "      <td>1259535</td>\n",
       "      <td>95.956760</td>\n",
       "      <td>96.747133</td>\n",
       "    </tr>\n",
       "  </tbody>\n",
       "</table>\n",
       "</div>"
      ],
      "text/plain": [
       "        candidate_name party  incumbent  winner  perc_vote  money_raised  \\\n",
       "0           Jerry Carl     R          0       1       64.9       1971321   \n",
       "1       James Averhart     D          0       0       35.0         80095   \n",
       "2          Barry Moore     R          0       1       65.3        650807   \n",
       "3  Phyllis Harvey-Hall     D          0       0       34.6         56050   \n",
       "4        Mike D Rogers     R          1       1       67.5       1193111   \n",
       "\n",
       "   money_spent state_name district state_dist  perc_vote_max  winner_bool  \\\n",
       "0      1859349         AL       01       AL01           64.9            1   \n",
       "1        78973         AL       01       AL01           64.9            0   \n",
       "2       669368         AL       02       AL02           65.3            1   \n",
       "3        55988         AL       02       AL02           65.3            0   \n",
       "4      1218564         AL       03       AL03           67.5            1   \n",
       "\n",
       "   max_raised  max_spent  total_raised  total_spent  perc_raised  perc_spent  \n",
       "0     1971321    1859349       2051416      1938322    96.095624   95.925703  \n",
       "1     1971321    1859349       2051416      1938322     3.904376    4.074297  \n",
       "2      650807     669368        706857       725356    92.070532   92.281307  \n",
       "3      650807     669368        706857       725356     7.929468    7.718693  \n",
       "4     1193111    1218564       1243384      1259535    95.956760   96.747133  "
      ]
     },
     "execution_count": 19,
     "metadata": {},
     "output_type": "execute_result"
    }
   ],
   "source": [
    "# columns for total raised and spent by top two candidates in each race\n",
    "candidates_top2['total_raised'] = candidates_top2.groupby('state_dist')['money_raised'].transform('sum')\n",
    "candidates_top2['total_spent'] = candidates_top2.groupby('state_dist')['money_spent'].transform('sum')\n",
    "\n",
    "# column for % of total (not sure I need the $ difference, add later if needed)\n",
    "candidates_top2['perc_raised'] = candidates_top2['money_raised'] / candidates_top2['total_raised'] * 100\n",
    "candidates_top2['perc_spent'] = candidates_top2['money_spent'] / candidates_top2['total_spent'] * 100\n",
    "\n",
    "candidates_top2.head()"
   ]
  },
  {
   "cell_type": "code",
   "execution_count": 20,
   "metadata": {},
   "outputs": [
    {
     "name": "stdout",
     "output_type": "stream",
     "text": [
      "Optimization terminated successfully.\n",
      "         Current function value: 0.649888\n",
      "         Iterations 6\n"
     ]
    },
    {
     "data": {
      "text/html": [
       "<table class=\"simpletable\">\n",
       "<caption>Logit Regression Results</caption>\n",
       "<tr>\n",
       "  <th>Dep. Variable:</th>      <td>winner_bool</td>   <th>  No. Observations:  </th>  <td>   806</td>  \n",
       "</tr>\n",
       "<tr>\n",
       "  <th>Model:</th>                 <td>Logit</td>      <th>  Df Residuals:      </th>  <td>   804</td>  \n",
       "</tr>\n",
       "<tr>\n",
       "  <th>Method:</th>                 <td>MLE</td>       <th>  Df Model:          </th>  <td>     1</td>  \n",
       "</tr>\n",
       "<tr>\n",
       "  <th>Date:</th>            <td>Tue, 24 Oct 2023</td> <th>  Pseudo R-squ.:     </th>  <td>0.05864</td> \n",
       "</tr>\n",
       "<tr>\n",
       "  <th>Time:</th>                <td>05:22:06</td>     <th>  Log-Likelihood:    </th> <td> -523.81</td> \n",
       "</tr>\n",
       "<tr>\n",
       "  <th>converged:</th>             <td>True</td>       <th>  LL-Null:           </th> <td> -556.44</td> \n",
       "</tr>\n",
       "<tr>\n",
       "  <th>Covariance Type:</th>     <td>nonrobust</td>    <th>  LLR p-value:       </th> <td>6.555e-16</td>\n",
       "</tr>\n",
       "</table>\n",
       "<table class=\"simpletable\">\n",
       "<tr>\n",
       "        <td></td>          <th>coef</th>     <th>std err</th>      <th>z</th>      <th>P>|z|</th>  <th>[0.025</th>    <th>0.975]</th>  \n",
       "</tr>\n",
       "<tr>\n",
       "  <th>Intercept</th>    <td>   -0.3804</td> <td>    0.101</td> <td>   -3.753</td> <td> 0.000</td> <td>   -0.579</td> <td>   -0.182</td>\n",
       "</tr>\n",
       "<tr>\n",
       "  <th>money_raised</th> <td> 3.003e-07</td> <td>  4.5e-08</td> <td>    6.666</td> <td> 0.000</td> <td> 2.12e-07</td> <td> 3.89e-07</td>\n",
       "</tr>\n",
       "</table>"
      ],
      "text/latex": [
       "\\begin{center}\n",
       "\\begin{tabular}{lclc}\n",
       "\\toprule\n",
       "\\textbf{Dep. Variable:}   &   winner\\_bool   & \\textbf{  No. Observations:  } &      806    \\\\\n",
       "\\textbf{Model:}           &      Logit       & \\textbf{  Df Residuals:      } &      804    \\\\\n",
       "\\textbf{Method:}          &       MLE        & \\textbf{  Df Model:          } &        1    \\\\\n",
       "\\textbf{Date:}            & Tue, 24 Oct 2023 & \\textbf{  Pseudo R-squ.:     } &  0.05864    \\\\\n",
       "\\textbf{Time:}            &     05:22:06     & \\textbf{  Log-Likelihood:    } &   -523.81   \\\\\n",
       "\\textbf{converged:}       &       True       & \\textbf{  LL-Null:           } &   -556.44   \\\\\n",
       "\\textbf{Covariance Type:} &    nonrobust     & \\textbf{  LLR p-value:       } & 6.555e-16   \\\\\n",
       "\\bottomrule\n",
       "\\end{tabular}\n",
       "\\begin{tabular}{lcccccc}\n",
       "                       & \\textbf{coef} & \\textbf{std err} & \\textbf{z} & \\textbf{P$> |$z$|$} & \\textbf{[0.025} & \\textbf{0.975]}  \\\\\n",
       "\\midrule\n",
       "\\textbf{Intercept}     &      -0.3804  &        0.101     &    -3.753  &         0.000        &       -0.579    &       -0.182     \\\\\n",
       "\\textbf{money\\_raised} &    3.003e-07  &      4.5e-08     &     6.666  &         0.000        &     2.12e-07    &     3.89e-07     \\\\\n",
       "\\bottomrule\n",
       "\\end{tabular}\n",
       "%\\caption{Logit Regression Results}\n",
       "\\end{center}"
      ],
      "text/plain": [
       "<class 'statsmodels.iolib.summary.Summary'>\n",
       "\"\"\"\n",
       "                           Logit Regression Results                           \n",
       "==============================================================================\n",
       "Dep. Variable:            winner_bool   No. Observations:                  806\n",
       "Model:                          Logit   Df Residuals:                      804\n",
       "Method:                           MLE   Df Model:                            1\n",
       "Date:                Tue, 24 Oct 2023   Pseudo R-squ.:                 0.05864\n",
       "Time:                        05:22:06   Log-Likelihood:                -523.81\n",
       "converged:                       True   LL-Null:                       -556.44\n",
       "Covariance Type:            nonrobust   LLR p-value:                 6.555e-16\n",
       "================================================================================\n",
       "                   coef    std err          z      P>|z|      [0.025      0.975]\n",
       "--------------------------------------------------------------------------------\n",
       "Intercept       -0.3804      0.101     -3.753      0.000      -0.579      -0.182\n",
       "money_raised  3.003e-07    4.5e-08      6.666      0.000    2.12e-07    3.89e-07\n",
       "================================================================================\n",
       "\"\"\""
      ]
     },
     "execution_count": 20,
     "metadata": {},
     "output_type": "execute_result"
    }
   ],
   "source": [
    "# logistic regression for money raised\n",
    "\n",
    "formula = 'winner_bool ~ money_raised'\n",
    "\n",
    "raised_model = smf.logit(formula = formula, data = candidates_top2).fit()\n",
    "\n",
    "raised_model.summary()"
   ]
  },
  {
   "cell_type": "code",
   "execution_count": 21,
   "metadata": {},
   "outputs": [
    {
     "name": "stdout",
     "output_type": "stream",
     "text": [
      "Optimization terminated successfully.\n",
      "         Current function value: 0.663216\n",
      "         Iterations 6\n"
     ]
    },
    {
     "data": {
      "text/html": [
       "<table class=\"simpletable\">\n",
       "<caption>Logit Regression Results</caption>\n",
       "<tr>\n",
       "  <th>Dep. Variable:</th>      <td>winner_bool</td>   <th>  No. Observations:  </th>  <td>   806</td>  \n",
       "</tr>\n",
       "<tr>\n",
       "  <th>Model:</th>                 <td>Logit</td>      <th>  Df Residuals:      </th>  <td>   804</td>  \n",
       "</tr>\n",
       "<tr>\n",
       "  <th>Method:</th>                 <td>MLE</td>       <th>  Df Model:          </th>  <td>     1</td>  \n",
       "</tr>\n",
       "<tr>\n",
       "  <th>Date:</th>            <td>Tue, 24 Oct 2023</td> <th>  Pseudo R-squ.:     </th>  <td>0.03934</td> \n",
       "</tr>\n",
       "<tr>\n",
       "  <th>Time:</th>                <td>05:22:06</td>     <th>  Log-Likelihood:    </th> <td> -534.55</td> \n",
       "</tr>\n",
       "<tr>\n",
       "  <th>converged:</th>             <td>True</td>       <th>  LL-Null:           </th> <td> -556.44</td> \n",
       "</tr>\n",
       "<tr>\n",
       "  <th>Covariance Type:</th>     <td>nonrobust</td>    <th>  LLR p-value:       </th> <td>3.679e-11</td>\n",
       "</tr>\n",
       "</table>\n",
       "<table class=\"simpletable\">\n",
       "<tr>\n",
       "       <td></td>          <th>coef</th>     <th>std err</th>      <th>z</th>      <th>P>|z|</th>  <th>[0.025</th>    <th>0.975]</th>  \n",
       "</tr>\n",
       "<tr>\n",
       "  <th>Intercept</th>   <td>   -0.2531</td> <td>    0.097</td> <td>   -2.619</td> <td> 0.009</td> <td>   -0.443</td> <td>   -0.064</td>\n",
       "</tr>\n",
       "<tr>\n",
       "  <th>money_spent</th> <td> 2.414e-07</td> <td> 4.27e-08</td> <td>    5.649</td> <td> 0.000</td> <td> 1.58e-07</td> <td> 3.25e-07</td>\n",
       "</tr>\n",
       "</table>"
      ],
      "text/latex": [
       "\\begin{center}\n",
       "\\begin{tabular}{lclc}\n",
       "\\toprule\n",
       "\\textbf{Dep. Variable:}   &   winner\\_bool   & \\textbf{  No. Observations:  } &      806    \\\\\n",
       "\\textbf{Model:}           &      Logit       & \\textbf{  Df Residuals:      } &      804    \\\\\n",
       "\\textbf{Method:}          &       MLE        & \\textbf{  Df Model:          } &        1    \\\\\n",
       "\\textbf{Date:}            & Tue, 24 Oct 2023 & \\textbf{  Pseudo R-squ.:     } &  0.03934    \\\\\n",
       "\\textbf{Time:}            &     05:22:06     & \\textbf{  Log-Likelihood:    } &   -534.55   \\\\\n",
       "\\textbf{converged:}       &       True       & \\textbf{  LL-Null:           } &   -556.44   \\\\\n",
       "\\textbf{Covariance Type:} &    nonrobust     & \\textbf{  LLR p-value:       } & 3.679e-11   \\\\\n",
       "\\bottomrule\n",
       "\\end{tabular}\n",
       "\\begin{tabular}{lcccccc}\n",
       "                      & \\textbf{coef} & \\textbf{std err} & \\textbf{z} & \\textbf{P$> |$z$|$} & \\textbf{[0.025} & \\textbf{0.975]}  \\\\\n",
       "\\midrule\n",
       "\\textbf{Intercept}    &      -0.2531  &        0.097     &    -2.619  &         0.009        &       -0.443    &       -0.064     \\\\\n",
       "\\textbf{money\\_spent} &    2.414e-07  &     4.27e-08     &     5.649  &         0.000        &     1.58e-07    &     3.25e-07     \\\\\n",
       "\\bottomrule\n",
       "\\end{tabular}\n",
       "%\\caption{Logit Regression Results}\n",
       "\\end{center}"
      ],
      "text/plain": [
       "<class 'statsmodels.iolib.summary.Summary'>\n",
       "\"\"\"\n",
       "                           Logit Regression Results                           \n",
       "==============================================================================\n",
       "Dep. Variable:            winner_bool   No. Observations:                  806\n",
       "Model:                          Logit   Df Residuals:                      804\n",
       "Method:                           MLE   Df Model:                            1\n",
       "Date:                Tue, 24 Oct 2023   Pseudo R-squ.:                 0.03934\n",
       "Time:                        05:22:06   Log-Likelihood:                -534.55\n",
       "converged:                       True   LL-Null:                       -556.44\n",
       "Covariance Type:            nonrobust   LLR p-value:                 3.679e-11\n",
       "===============================================================================\n",
       "                  coef    std err          z      P>|z|      [0.025      0.975]\n",
       "-------------------------------------------------------------------------------\n",
       "Intercept      -0.2531      0.097     -2.619      0.009      -0.443      -0.064\n",
       "money_spent  2.414e-07   4.27e-08      5.649      0.000    1.58e-07    3.25e-07\n",
       "===============================================================================\n",
       "\"\"\""
      ]
     },
     "execution_count": 21,
     "metadata": {},
     "output_type": "execute_result"
    }
   ],
   "source": [
    "# logistic regression for money spent\n",
    "\n",
    "formula = 'winner_bool ~ money_spent'\n",
    "\n",
    "spent_model = smf.logit(formula = formula, data = candidates_top2).fit()\n",
    "\n",
    "spent_model.summary()"
   ]
  },
  {
   "cell_type": "code",
   "execution_count": 22,
   "metadata": {},
   "outputs": [
    {
     "data": {
      "image/png": "[encoded data removed]",
      "text/plain": [
       "<Figure size 1000x600 with 1 Axes>"
      ]
     },
     "metadata": {},
     "output_type": "display_data"
    }
   ],
   "source": [
    "# plot the regressions\n",
    "\n",
    "plt.figure(figsize = (10, 6))\n",
    "fontsize = 14\n",
    "color_1 = '#008ad1'\n",
    "color_2 = '#00517cff'\n",
    "\n",
    "x_raised = candidates_top2['money_raised']\n",
    "y_raised = 1/(1 + (np.exp(-raised_model.params[0] - (raised_model.params[1] * x_raised))))\n",
    "plt.scatter(x_raised, y_raised, c = color_1, label = '$ Raised')\n",
    "\n",
    "x_spent = candidates_top2['money_spent']\n",
    "y_spent = 1/(1 + (np.exp(-spent_model.params[0] - (spent_model.params[1] * x_spent))))\n",
    "plt.scatter(x_spent, y_spent, c = color_2, label = '$ Spent')\n",
    "\n",
    "plt.xlabel('$ Amount in Millions', fontsize = fontsize)\n",
    "plt.ylabel('Probability of Winning', fontsize = fontsize)\n",
    "plt.title('Money Raised and Spent as a Predicter of Winning', fontsize = fontsize + 2, weight = 'bold')\n",
    "plt.legend()\n",
    "\n",
    "plt.tight_layout()\n",
    "plt.savefig('../assets/raised_spent_prediction.png', dpi = 150);"
   ]
  },
  {
   "cell_type": "markdown",
   "metadata": {},
   "source": [
    "Calculate the difference in money between winner and runner-up as a predictor of winning.\n",
    "\n",
    "Do I need to remove un-contested races? I think I do - look at them separately."
   ]
  },
  {
   "cell_type": "code",
   "execution_count": 25,
   "metadata": {},
   "outputs": [
    {
     "name": "stdout",
     "output_type": "stream",
     "text": [
      "(746, 18)\n",
      "(60, 18)\n"
     ]
    }
   ],
   "source": [
    "# top_2 df with uncontested races removed (also create df with just those races)\n",
    "\n",
    "contested_top2 = candidates_top2[candidates_top2.groupby('state_dist')['state_dist'].transform('size') > 1]\n",
    "uncontested = candidates_top2[candidates_top2.groupby('state_dist')['state_dist'].transform('size') == 1]\n",
    "\n",
    "print(contested_top2.shape)\n",
    "print(uncontested.shape)"
   ]
  },
  {
   "cell_type": "code",
   "execution_count": 29,
   "metadata": {},
   "outputs": [
    {
     "name": "stderr",
     "output_type": "stream",
     "text": [
      "/var/folders/xm/vmtk5pms0jzb2kmtm00lwtn80000gn/T/ipykernel_59456/2601890816.py:1: SettingWithCopyWarning: \n",
      "A value is trying to be set on a copy of a slice from a DataFrame.\n",
      "Try using .loc[row_indexer,col_indexer] = value instead\n",
      "\n",
      "See the caveats in the documentation: https://pandas.pydata.org/pandas-docs/stable/user_guide/indexing.html#returning-a-view-versus-a-copy\n",
      "  contested_top2['raised_diff'] = contested_top2['total_raised'] - contested_top2['money_raised']\n"
     ]
    }
   ],
   "source": [
    "contested_top2['raised_diff'] = contested_top2['total_raised'] - contested_top2['money_raised']"
   ]
  },
  {
   "cell_type": "code",
   "execution_count": 32,
   "metadata": {},
   "outputs": [
    {
     "data": {
      "text/plain": [
       "(373, 19)"
      ]
     },
     "execution_count": 32,
     "metadata": {},
     "output_type": "execute_result"
    }
   ],
   "source": [
    "contested_winner = contested_top2.loc[contested_top2['winner_bool'] == 1]\n",
    "\n",
    "contested_winner.shape"
   ]
  },
  {
   "cell_type": "code",
   "execution_count": 34,
   "metadata": {},
   "outputs": [
    {
     "name": "stdout",
     "output_type": "stream",
     "text": [
      "Optimization terminated successfully.\n",
      "         Current function value: 0.648366\n",
      "         Iterations 6\n"
     ]
    },
    {
     "data": {
      "text/html": [
       "<table class=\"simpletable\">\n",
       "<caption>Logit Regression Results</caption>\n",
       "<tr>\n",
       "  <th>Dep. Variable:</th>      <td>winner_bool</td>   <th>  No. Observations:  </th>  <td>   746</td>  \n",
       "</tr>\n",
       "<tr>\n",
       "  <th>Model:</th>                 <td>Logit</td>      <th>  Df Residuals:      </th>  <td>   744</td>  \n",
       "</tr>\n",
       "<tr>\n",
       "  <th>Method:</th>                 <td>MLE</td>       <th>  Df Model:          </th>  <td>     1</td>  \n",
       "</tr>\n",
       "<tr>\n",
       "  <th>Date:</th>            <td>Tue, 24 Oct 2023</td> <th>  Pseudo R-squ.:     </th>  <td>0.06461</td> \n",
       "</tr>\n",
       "<tr>\n",
       "  <th>Time:</th>                <td>05:48:42</td>     <th>  Log-Likelihood:    </th> <td> -483.68</td> \n",
       "</tr>\n",
       "<tr>\n",
       "  <th>converged:</th>             <td>True</td>       <th>  LL-Null:           </th> <td> -517.09</td> \n",
       "</tr>\n",
       "<tr>\n",
       "  <th>Covariance Type:</th>     <td>nonrobust</td>    <th>  LLR p-value:       </th> <td>2.984e-16</td>\n",
       "</tr>\n",
       "</table>\n",
       "<table class=\"simpletable\">\n",
       "<tr>\n",
       "       <td></td>          <th>coef</th>     <th>std err</th>      <th>z</th>      <th>P>|z|</th>  <th>[0.025</th>    <th>0.975]</th>  \n",
       "</tr>\n",
       "<tr>\n",
       "  <th>Intercept</th>   <td>    0.5465</td> <td>    0.105</td> <td>    5.217</td> <td> 0.000</td> <td>    0.341</td> <td>    0.752</td>\n",
       "</tr>\n",
       "<tr>\n",
       "  <th>raised_diff</th> <td>-3.034e-07</td> <td> 4.47e-08</td> <td>   -6.790</td> <td> 0.000</td> <td>-3.91e-07</td> <td>-2.16e-07</td>\n",
       "</tr>\n",
       "</table>"
      ],
      "text/latex": [
       "\\begin{center}\n",
       "\\begin{tabular}{lclc}\n",
       "\\toprule\n",
       "\\textbf{Dep. Variable:}   &   winner\\_bool   & \\textbf{  No. Observations:  } &      746    \\\\\n",
       "\\textbf{Model:}           &      Logit       & \\textbf{  Df Residuals:      } &      744    \\\\\n",
       "\\textbf{Method:}          &       MLE        & \\textbf{  Df Model:          } &        1    \\\\\n",
       "\\textbf{Date:}            & Tue, 24 Oct 2023 & \\textbf{  Pseudo R-squ.:     } &  0.06461    \\\\\n",
       "\\textbf{Time:}            &     05:48:42     & \\textbf{  Log-Likelihood:    } &   -483.68   \\\\\n",
       "\\textbf{converged:}       &       True       & \\textbf{  LL-Null:           } &   -517.09   \\\\\n",
       "\\textbf{Covariance Type:} &    nonrobust     & \\textbf{  LLR p-value:       } & 2.984e-16   \\\\\n",
       "\\bottomrule\n",
       "\\end{tabular}\n",
       "\\begin{tabular}{lcccccc}\n",
       "                      & \\textbf{coef} & \\textbf{std err} & \\textbf{z} & \\textbf{P$> |$z$|$} & \\textbf{[0.025} & \\textbf{0.975]}  \\\\\n",
       "\\midrule\n",
       "\\textbf{Intercept}    &       0.5465  &        0.105     &     5.217  &         0.000        &        0.341    &        0.752     \\\\\n",
       "\\textbf{raised\\_diff} &   -3.034e-07  &     4.47e-08     &    -6.790  &         0.000        &    -3.91e-07    &    -2.16e-07     \\\\\n",
       "\\bottomrule\n",
       "\\end{tabular}\n",
       "%\\caption{Logit Regression Results}\n",
       "\\end{center}"
      ],
      "text/plain": [
       "<class 'statsmodels.iolib.summary.Summary'>\n",
       "\"\"\"\n",
       "                           Logit Regression Results                           \n",
       "==============================================================================\n",
       "Dep. Variable:            winner_bool   No. Observations:                  746\n",
       "Model:                          Logit   Df Residuals:                      744\n",
       "Method:                           MLE   Df Model:                            1\n",
       "Date:                Tue, 24 Oct 2023   Pseudo R-squ.:                 0.06461\n",
       "Time:                        05:48:42   Log-Likelihood:                -483.68\n",
       "converged:                       True   LL-Null:                       -517.09\n",
       "Covariance Type:            nonrobust   LLR p-value:                 2.984e-16\n",
       "===============================================================================\n",
       "                  coef    std err          z      P>|z|      [0.025      0.975]\n",
       "-------------------------------------------------------------------------------\n",
       "Intercept       0.5465      0.105      5.217      0.000       0.341       0.752\n",
       "raised_diff -3.034e-07   4.47e-08     -6.790      0.000   -3.91e-07   -2.16e-07\n",
       "===============================================================================\n",
       "\"\"\""
      ]
     },
     "execution_count": 34,
     "metadata": {},
     "output_type": "execute_result"
    }
   ],
   "source": [
    "# logistic regression for difference between money raised, top 2 candidates (in contested races)\n",
    "\n",
    "formula = 'winner_bool ~ raised_diff'\n",
    "\n",
    "raised_diff_model = smf.logit(formula = formula, data = contested_top2).fit()\n",
    "\n",
    "raised_diff_model.summary()"
   ]
  },
  {
   "cell_type": "code",
   "execution_count": 31,
   "metadata": {},
   "outputs": [
    {
     "data": {
      "image/png": "[encoded data removed]",
      "text/plain": [
       "<Figure size 1000x600 with 1 Axes>"
      ]
     },
     "metadata": {},
     "output_type": "display_data"
    }
   ],
   "source": [
    "plt.figure(figsize = (10, 6))\n",
    "fontsize = 14\n",
    "color_1 = '#008ad1'\n",
    "color_2 = '#00517cff'\n",
    "\n",
    "x_diff = contested_top2['raised_diff']\n",
    "y_diff = 1/(1 + (np.exp(-raised_diff_model.params[0] - (raised_diff_model.params[1] * x_diff))))\n",
    "plt.scatter(x_diff, y_diff, c = color_1, label = '$ Difference')\n",
    "\n",
    "# plt.xlabel('$ Amount in Millions', fontsize = fontsize)\n",
    "# plt.ylabel('Probability of Winning', fontsize = fontsize)\n",
    "# plt.title('Does Outraising Your Opponent Matter?', fontsize = fontsize + 2, weight = 'bold')\n",
    "plt.legend()\n",
    "\n",
    "plt.tight_layout()\n",
    "# plt.savefig('../assets/raised_diff_prediction.png', dpi = 150);"
   ]
  },
  {
   "cell_type": "markdown",
   "metadata": {},
   "source": [
    "According to the raised_diff model, the more you outraise your opponent the less well you do? That seems counter-intuitive. Don't present this without doing further confirmation work."
   ]
  },
  {
   "cell_type": "markdown",
   "metadata": {},
   "source": [
    "### How often does the incumbent win the race?\n",
    "\n",
    "First, filter out races with no incumbent then calculate - value_counts on winner_bool where incumbent = 1"
   ]
  },
  {
   "cell_type": "markdown",
   "metadata": {},
   "source": []
  }
 ],
 "metadata": {
  "kernelspec": {
   "display_name": "base",
   "language": "python",
   "name": "python3"
  },
  "language_info": {
   "codemirror_mode": {
    "name": "ipython",
    "version": 3
   },
   "file_extension": ".py",
   "mimetype": "text/x-python",
   "name": "python",
   "nbconvert_exporter": "python",
   "pygments_lexer": "ipython3",
   "version": "3.11.4"
  },
  "orig_nbformat": 4
 },
 "nbformat": 4,
 "nbformat_minor": 2
}
