{
 "cells": [
  {
   "cell_type": "code",
   "execution_count": 28,
   "metadata": {},
   "outputs": [],
   "source": [
    "import pandas as pd\n",
    "import matplotlib.pyplot as plt\n",
    "import seaborn as sns"
   ]
  },
  {
   "cell_type": "code",
   "execution_count": 29,
   "metadata": {},
   "outputs": [
    {
     "data": {
      "text/html": [
       "<div>\n",
       "<style scoped>\n",
       "    .dataframe tbody tr th:only-of-type {\n",
       "        vertical-align: middle;\n",
       "    }\n",
       "\n",
       "    .dataframe tbody tr th {\n",
       "        vertical-align: top;\n",
       "    }\n",
       "\n",
       "    .dataframe thead th {\n",
       "        text-align: right;\n",
       "    }\n",
       "</style>\n",
       "<table border=\"1\" class=\"dataframe\">\n",
       "  <thead>\n",
       "    <tr style=\"text-align: right;\">\n",
       "      <th></th>\n",
       "      <th>state_name</th>\n",
       "      <th>district</th>\n",
       "      <th>candidate_name</th>\n",
       "      <th>party</th>\n",
       "      <th>incumbent</th>\n",
       "      <th>winner</th>\n",
       "      <th>perc_vote</th>\n",
       "      <th>money_raised</th>\n",
       "      <th>money_spent</th>\n",
       "    </tr>\n",
       "  </thead>\n",
       "  <tbody>\n",
       "    <tr>\n",
       "      <th>0</th>\n",
       "      <td>AL</td>\n",
       "      <td>1</td>\n",
       "      <td>Jerry Carl</td>\n",
       "      <td>R</td>\n",
       "      <td>not incumbent</td>\n",
       "      <td>1</td>\n",
       "      <td>64.9</td>\n",
       "      <td>1971321</td>\n",
       "      <td>1859349</td>\n",
       "    </tr>\n",
       "    <tr>\n",
       "      <th>1</th>\n",
       "      <td>AL</td>\n",
       "      <td>1</td>\n",
       "      <td>James Averhart</td>\n",
       "      <td>D</td>\n",
       "      <td>not incumbent</td>\n",
       "      <td>0</td>\n",
       "      <td>35.0</td>\n",
       "      <td>80095</td>\n",
       "      <td>78973</td>\n",
       "    </tr>\n",
       "    <tr>\n",
       "      <th>2</th>\n",
       "      <td>AL</td>\n",
       "      <td>2</td>\n",
       "      <td>Barry Moore</td>\n",
       "      <td>R</td>\n",
       "      <td>not incumbent</td>\n",
       "      <td>1</td>\n",
       "      <td>65.3</td>\n",
       "      <td>650807</td>\n",
       "      <td>669368</td>\n",
       "    </tr>\n",
       "    <tr>\n",
       "      <th>3</th>\n",
       "      <td>AL</td>\n",
       "      <td>2</td>\n",
       "      <td>Phyllis Harvey-Hall</td>\n",
       "      <td>D</td>\n",
       "      <td>not incumbent</td>\n",
       "      <td>0</td>\n",
       "      <td>34.6</td>\n",
       "      <td>56050</td>\n",
       "      <td>55988</td>\n",
       "    </tr>\n",
       "    <tr>\n",
       "      <th>4</th>\n",
       "      <td>AL</td>\n",
       "      <td>3</td>\n",
       "      <td>Mike D Rogers</td>\n",
       "      <td>R</td>\n",
       "      <td>Incumbent</td>\n",
       "      <td>1</td>\n",
       "      <td>67.5</td>\n",
       "      <td>1193111</td>\n",
       "      <td>1218564</td>\n",
       "    </tr>\n",
       "  </tbody>\n",
       "</table>\n",
       "</div>"
      ],
      "text/plain": [
       "  state_name  district       candidate_name party      incumbent  winner  \\\n",
       "0         AL         1           Jerry Carl     R  not incumbent       1   \n",
       "1         AL         1       James Averhart     D  not incumbent       0   \n",
       "2         AL         2          Barry Moore     R  not incumbent       1   \n",
       "3         AL         2  Phyllis Harvey-Hall     D  not incumbent       0   \n",
       "4         AL         3        Mike D Rogers     R      Incumbent       1   \n",
       "\n",
       "   perc_vote  money_raised  money_spent  \n",
       "0       64.9       1971321      1859349  \n",
       "1       35.0         80095        78973  \n",
       "2       65.3        650807       669368  \n",
       "3       34.6         56050        55988  \n",
       "4       67.5       1193111      1218564  "
      ]
     },
     "execution_count": 29,
     "metadata": {},
     "output_type": "execute_result"
    }
   ],
   "source": [
    "candidates = pd.read_csv('../data/candidates.csv') # refactor to explicitly set district as string\n",
    "\n",
    "candidates.head()"
   ]
  },
  {
   "cell_type": "markdown",
   "metadata": {},
   "source": [
    "# when refactoring code, add state and district concat here to make life easier"
   ]
  },
  {
   "cell_type": "code",
   "execution_count": 30,
   "metadata": {},
   "outputs": [
    {
     "name": "stdout",
     "output_type": "stream",
     "text": [
      "<class 'pandas.core.frame.DataFrame'>\n",
      "RangeIndex: 892 entries, 0 to 891\n",
      "Data columns (total 9 columns):\n",
      " #   Column          Non-Null Count  Dtype  \n",
      "---  ------          --------------  -----  \n",
      " 0   state_name      892 non-null    object \n",
      " 1   district        892 non-null    int64  \n",
      " 2   candidate_name  892 non-null    object \n",
      " 3   party           892 non-null    object \n",
      " 4   incumbent       892 non-null    object \n",
      " 5   winner          892 non-null    int64  \n",
      " 6   perc_vote       892 non-null    float64\n",
      " 7   money_raised    892 non-null    int64  \n",
      " 8   money_spent     892 non-null    int64  \n",
      "dtypes: float64(1), int64(4), object(4)\n",
      "memory usage: 62.8+ KB\n"
     ]
    }
   ],
   "source": [
    "candidates.info()"
   ]
  },
  {
   "cell_type": "code",
   "execution_count": 31,
   "metadata": {},
   "outputs": [
    {
     "data": {
      "text/plain": [
       "D    423\n",
       "R    387\n",
       "I     46\n",
       "L     21\n",
       "3     15\n",
       "Name: party, dtype: int64"
      ]
     },
     "execution_count": 31,
     "metadata": {},
     "output_type": "execute_result"
    }
   ],
   "source": [
    "candidates['party'].value_counts()"
   ]
  },
  {
   "cell_type": "code",
   "execution_count": 38,
   "metadata": {},
   "outputs": [
    {
     "data": {
      "text/html": [
       "<div>\n",
       "<style scoped>\n",
       "    .dataframe tbody tr th:only-of-type {\n",
       "        vertical-align: middle;\n",
       "    }\n",
       "\n",
       "    .dataframe tbody tr th {\n",
       "        vertical-align: top;\n",
       "    }\n",
       "\n",
       "    .dataframe thead th {\n",
       "        text-align: right;\n",
       "    }\n",
       "</style>\n",
       "<table border=\"1\" class=\"dataframe\">\n",
       "  <thead>\n",
       "    <tr style=\"text-align: right;\">\n",
       "      <th></th>\n",
       "      <th>state_name</th>\n",
       "      <th>district</th>\n",
       "      <th>candidate_name</th>\n",
       "      <th>party</th>\n",
       "      <th>incumbent</th>\n",
       "      <th>winner</th>\n",
       "      <th>perc_vote</th>\n",
       "      <th>money_raised</th>\n",
       "      <th>money_spent</th>\n",
       "      <th>max_raised</th>\n",
       "      <th>max_spent</th>\n",
       "    </tr>\n",
       "  </thead>\n",
       "  <tbody>\n",
       "  </tbody>\n",
       "</table>\n",
       "</div>"
      ],
      "text/plain": [
       "Empty DataFrame\n",
       "Columns: [state_name, district, candidate_name, party, incumbent, winner, perc_vote, money_raised, money_spent, max_raised, max_spent]\n",
       "Index: []"
      ]
     },
     "execution_count": 38,
     "metadata": {},
     "output_type": "execute_result"
    }
   ],
   "source": [
    "candidates.loc[(candidates['party'].isin(['I', 'L', '3'])) & (candidates['winner'] == 1)]\n",
    "\n",
    "# no independent or 3rd party candidate won a race"
   ]
  },
  {
   "cell_type": "markdown",
   "metadata": {},
   "source": [
    "### how many races didn't have an incumbant running? How does that correlate with number of candidates in the race?"
   ]
  },
  {
   "cell_type": "markdown",
   "metadata": {},
   "source": [
    "### How often does the candidate who raised more money win a race?"
   ]
  },
  {
   "cell_type": "markdown",
   "metadata": {},
   "source": [
    "Partition by state and district, sort by money_raised, qualify row_num = 1 (to only have the person from each race who raised the most money). Chart value_counts of winner column."
   ]
  },
  {
   "cell_type": "code",
   "execution_count": 39,
   "metadata": {},
   "outputs": [],
   "source": [
    "# new column with max raised in each district race\n",
    "candidates['max_raised'] = candidates.groupby(['state_name', 'district'])['money_raised'].transform('max')"
   ]
  },
  {
   "cell_type": "code",
   "execution_count": 40,
   "metadata": {},
   "outputs": [],
   "source": [
    "raised_winner = candidates.loc[candidates['money_raised'] == candidates['max_raised']]"
   ]
  },
  {
   "cell_type": "code",
   "execution_count": 74,
   "metadata": {},
   "outputs": [
    {
     "data": {
      "image/png": "[encoded data removed]",
      "text/plain": [
       "<Figure size 1000x600 with 1 Axes>"
      ]
     },
     "metadata": {},
     "output_type": "display_data"
    }
   ],
   "source": [
    "fontsize = 14\n",
    "\n",
    "plt.figure(figsize = (10,6))\n",
    "raised_winner['winner'].value_counts().plot(kind = 'bar')\n",
    "plt.xticks(rotation = 0, labels = ['Winner', 'Not Winner'], ticks = [0, 1], fontsize = fontsize)\n",
    "plt.yticks(fontsize = fontsize)\n",
    "plt.title('Test Title', fontsize = fontsize + 2, )\n",
    "plt.tight_layout()\n",
    "plt.savefig('../data/test.png', dpi = 150);"
   ]
  },
  {
   "cell_type": "markdown",
   "metadata": {},
   "source": [
    "#### How often does the candidate who spent more money win a race?"
   ]
  },
  {
   "cell_type": "markdown",
   "metadata": {},
   "source": [
    "Same strategy as previous question."
   ]
  },
  {
   "cell_type": "code",
   "execution_count": 69,
   "metadata": {},
   "outputs": [
    {
     "data": {
      "image/png": "[encoded data removed]",
      "text/plain": [
       "<Figure size 640x480 with 1 Axes>"
      ]
     },
     "metadata": {},
     "output_type": "display_data"
    }
   ],
   "source": [
    "# new column with max spent in each district race\n",
    "candidates['max_spent'] = candidates.groupby(['state_name', 'district'])['money_spent'].transform('max')\n",
    "\n",
    "spent_winner = candidates.loc[candidates['money_spent'] == candidates['max_spent']]\n",
    "\n",
    "spent_winner['winner'].value_counts().plot.bar()\n",
    "plt.xticks(rotation = 0, labels = ['Winner', 'Not Winner'], ticks = [0, 1]);\n",
    "\n",
    "# are the ones who raised and spent the most money completely synonymous? Seems likely"
   ]
  },
  {
   "cell_type": "markdown",
   "metadata": {},
   "source": [
    "#### Does the difference between either money raised or money spent seem to influence the likelihood of a candidate winning a race?"
   ]
  },
  {
   "cell_type": "markdown",
   "metadata": {},
   "source": [
    "strategy: filter to top 2 candidates in each race, new column calculating the total spent in the race, and a column calculating the difference between winner and 2nd place in $, plus % calculation\n"
   ]
  },
  {
   "cell_type": "code",
   "execution_count": 60,
   "metadata": {},
   "outputs": [
    {
     "data": {
      "text/html": [
       "<div>\n",
       "<style scoped>\n",
       "    .dataframe tbody tr th:only-of-type {\n",
       "        vertical-align: middle;\n",
       "    }\n",
       "\n",
       "    .dataframe tbody tr th {\n",
       "        vertical-align: top;\n",
       "    }\n",
       "\n",
       "    .dataframe thead th {\n",
       "        text-align: right;\n",
       "    }\n",
       "</style>\n",
       "<table border=\"1\" class=\"dataframe\">\n",
       "  <thead>\n",
       "    <tr style=\"text-align: right;\">\n",
       "      <th></th>\n",
       "      <th>state_name</th>\n",
       "      <th>district</th>\n",
       "      <th>candidate_name</th>\n",
       "      <th>party</th>\n",
       "      <th>incumbent</th>\n",
       "      <th>winner</th>\n",
       "      <th>perc_vote</th>\n",
       "      <th>money_raised</th>\n",
       "      <th>money_spent</th>\n",
       "      <th>max_raised</th>\n",
       "      <th>max_spent</th>\n",
       "      <th>state_dist</th>\n",
       "    </tr>\n",
       "  </thead>\n",
       "  <tbody>\n",
       "    <tr>\n",
       "      <th>0</th>\n",
       "      <td>AL</td>\n",
       "      <td>1</td>\n",
       "      <td>Jerry Carl</td>\n",
       "      <td>R</td>\n",
       "      <td>not incumbent</td>\n",
       "      <td>1</td>\n",
       "      <td>64.9</td>\n",
       "      <td>1971321</td>\n",
       "      <td>1859349</td>\n",
       "      <td>1971321</td>\n",
       "      <td>1859349</td>\n",
       "      <td>AL1</td>\n",
       "    </tr>\n",
       "  </tbody>\n",
       "</table>\n",
       "</div>"
      ],
      "text/plain": [
       "  state_name  district candidate_name party      incumbent  winner  perc_vote  \\\n",
       "0         AL         1     Jerry Carl     R  not incumbent       1       64.9   \n",
       "\n",
       "   money_raised  money_spent  max_raised  max_spent state_dist  \n",
       "0       1971321      1859349     1971321    1859349        AL1  "
      ]
     },
     "execution_count": 60,
     "metadata": {},
     "output_type": "execute_result"
    }
   ],
   "source": [
    "# adding column to concat state and district, move earlier in future refactor\n",
    "candidates['state_dist'] = candidates['state_name'] + candidates['district'].astype('str')\n",
    "\n",
    "candidates.head(1)"
   ]
  },
  {
   "cell_type": "code",
   "execution_count": 61,
   "metadata": {},
   "outputs": [
    {
     "data": {
      "text/html": [
       "<div>\n",
       "<style scoped>\n",
       "    .dataframe tbody tr th:only-of-type {\n",
       "        vertical-align: middle;\n",
       "    }\n",
       "\n",
       "    .dataframe tbody tr th {\n",
       "        vertical-align: top;\n",
       "    }\n",
       "\n",
       "    .dataframe thead th {\n",
       "        text-align: right;\n",
       "    }\n",
       "</style>\n",
       "<table border=\"1\" class=\"dataframe\">\n",
       "  <thead>\n",
       "    <tr style=\"text-align: right;\">\n",
       "      <th></th>\n",
       "      <th>state_name</th>\n",
       "      <th>district</th>\n",
       "      <th>candidate_name</th>\n",
       "      <th>party</th>\n",
       "      <th>incumbent</th>\n",
       "      <th>winner</th>\n",
       "      <th>perc_vote</th>\n",
       "      <th>money_raised</th>\n",
       "      <th>money_spent</th>\n",
       "      <th>max_raised</th>\n",
       "      <th>max_spent</th>\n",
       "      <th>state_dist</th>\n",
       "    </tr>\n",
       "  </thead>\n",
       "  <tbody>\n",
       "    <tr>\n",
       "      <th>0</th>\n",
       "      <td>AL</td>\n",
       "      <td>1</td>\n",
       "      <td>Jerry Carl</td>\n",
       "      <td>R</td>\n",
       "      <td>not incumbent</td>\n",
       "      <td>1</td>\n",
       "      <td>64.9</td>\n",
       "      <td>1971321</td>\n",
       "      <td>1859349</td>\n",
       "      <td>1971321</td>\n",
       "      <td>1859349</td>\n",
       "      <td>AL1</td>\n",
       "    </tr>\n",
       "    <tr>\n",
       "      <th>1</th>\n",
       "      <td>AL</td>\n",
       "      <td>1</td>\n",
       "      <td>James Averhart</td>\n",
       "      <td>D</td>\n",
       "      <td>not incumbent</td>\n",
       "      <td>0</td>\n",
       "      <td>35.0</td>\n",
       "      <td>80095</td>\n",
       "      <td>78973</td>\n",
       "      <td>1971321</td>\n",
       "      <td>1859349</td>\n",
       "      <td>AL1</td>\n",
       "    </tr>\n",
       "    <tr>\n",
       "      <th>2</th>\n",
       "      <td>AL</td>\n",
       "      <td>2</td>\n",
       "      <td>Barry Moore</td>\n",
       "      <td>R</td>\n",
       "      <td>not incumbent</td>\n",
       "      <td>1</td>\n",
       "      <td>65.3</td>\n",
       "      <td>650807</td>\n",
       "      <td>669368</td>\n",
       "      <td>650807</td>\n",
       "      <td>669368</td>\n",
       "      <td>AL2</td>\n",
       "    </tr>\n",
       "    <tr>\n",
       "      <th>3</th>\n",
       "      <td>AL</td>\n",
       "      <td>2</td>\n",
       "      <td>Phyllis Harvey-Hall</td>\n",
       "      <td>D</td>\n",
       "      <td>not incumbent</td>\n",
       "      <td>0</td>\n",
       "      <td>34.6</td>\n",
       "      <td>56050</td>\n",
       "      <td>55988</td>\n",
       "      <td>650807</td>\n",
       "      <td>669368</td>\n",
       "      <td>AL2</td>\n",
       "    </tr>\n",
       "    <tr>\n",
       "      <th>4</th>\n",
       "      <td>AL</td>\n",
       "      <td>3</td>\n",
       "      <td>Mike D Rogers</td>\n",
       "      <td>R</td>\n",
       "      <td>Incumbent</td>\n",
       "      <td>1</td>\n",
       "      <td>67.5</td>\n",
       "      <td>1193111</td>\n",
       "      <td>1218564</td>\n",
       "      <td>1193111</td>\n",
       "      <td>1218564</td>\n",
       "      <td>AL3</td>\n",
       "    </tr>\n",
       "  </tbody>\n",
       "</table>\n",
       "</div>"
      ],
      "text/plain": [
       "  state_name  district       candidate_name party      incumbent  winner  \\\n",
       "0         AL         1           Jerry Carl     R  not incumbent       1   \n",
       "1         AL         1       James Averhart     D  not incumbent       0   \n",
       "2         AL         2          Barry Moore     R  not incumbent       1   \n",
       "3         AL         2  Phyllis Harvey-Hall     D  not incumbent       0   \n",
       "4         AL         3        Mike D Rogers     R      Incumbent       1   \n",
       "\n",
       "   perc_vote  money_raised  money_spent  max_raised  max_spent state_dist  \n",
       "0       64.9       1971321      1859349     1971321    1859349        AL1  \n",
       "1       35.0         80095        78973     1971321    1859349        AL1  \n",
       "2       65.3        650807       669368      650807     669368        AL2  \n",
       "3       34.6         56050        55988      650807     669368        AL2  \n",
       "4       67.5       1193111      1218564     1193111    1218564        AL3  "
      ]
     },
     "execution_count": 61,
     "metadata": {},
     "output_type": "execute_result"
    }
   ],
   "source": [
    "# filter to max 2 from each race\n",
    "\n",
    "candidates_top2 = candidates.iloc[candidates.reset_index().groupby(['state_name', 'district'])['perc_vote'].nlargest(2).index.levels[2]] # refactor to account for the concat column I added above (easier, not strictly necessary)\n",
    "\n",
    "candidates_top2.head()"
   ]
  },
  {
   "cell_type": "code",
   "execution_count": 62,
   "metadata": {},
   "outputs": [
    {
     "data": {
      "text/plain": [
       "(810, 12)"
      ]
     },
     "execution_count": 62,
     "metadata": {},
     "output_type": "execute_result"
    }
   ],
   "source": [
    "candidates_top2.shape\n",
    "\n",
    "# full candidates df has 892 rows, seems like not too many races have more than 2 candidates (or many districts are uncontested)"
   ]
  },
  {
   "cell_type": "markdown",
   "metadata": {},
   "source": [
    "side question - how many races are uncontested? Even in Alabama with 7 districts, it looks like 4 of them were uncontested."
   ]
  },
  {
   "cell_type": "code",
   "execution_count": 65,
   "metadata": {},
   "outputs": [
    {
     "data": {
      "text/plain": [
       "60"
      ]
     },
     "execution_count": 65,
     "metadata": {},
     "output_type": "execute_result"
    }
   ],
   "source": [
    "(candidates_top2['state_dist'].value_counts() == 1).sum()\n",
    "\n",
    "# 60 seats uncontested, see what the guys think about including this kind of information and make a graph"
   ]
  },
  {
   "cell_type": "code",
   "execution_count": 70,
   "metadata": {},
   "outputs": [
    {
     "name": "stderr",
     "output_type": "stream",
     "text": [
      "/var/folders/xm/vmtk5pms0jzb2kmtm00lwtn80000gn/T/ipykernel_48314/3465422768.py:2: SettingWithCopyWarning: \n",
      "A value is trying to be set on a copy of a slice from a DataFrame.\n",
      "Try using .loc[row_indexer,col_indexer] = value instead\n",
      "\n",
      "See the caveats in the documentation: https://pandas.pydata.org/pandas-docs/stable/user_guide/indexing.html#returning-a-view-versus-a-copy\n",
      "  candidates_top2['total_raised'] = candidates_top2.groupby('state_dist')['money_raised'].transform('sum')\n",
      "/var/folders/xm/vmtk5pms0jzb2kmtm00lwtn80000gn/T/ipykernel_48314/3465422768.py:3: SettingWithCopyWarning: \n",
      "A value is trying to be set on a copy of a slice from a DataFrame.\n",
      "Try using .loc[row_indexer,col_indexer] = value instead\n",
      "\n",
      "See the caveats in the documentation: https://pandas.pydata.org/pandas-docs/stable/user_guide/indexing.html#returning-a-view-versus-a-copy\n",
      "  candidates_top2['total_spent'] = candidates_top2.groupby('state_dist')['money_spent'].transform('sum')\n",
      "/var/folders/xm/vmtk5pms0jzb2kmtm00lwtn80000gn/T/ipykernel_48314/3465422768.py:6: SettingWithCopyWarning: \n",
      "A value is trying to be set on a copy of a slice from a DataFrame.\n",
      "Try using .loc[row_indexer,col_indexer] = value instead\n",
      "\n",
      "See the caveats in the documentation: https://pandas.pydata.org/pandas-docs/stable/user_guide/indexing.html#returning-a-view-versus-a-copy\n",
      "  candidates_top2['perc_raised'] = candidates_top2['money_raised'] / candidates_top2['total_raised'] * 100\n",
      "/var/folders/xm/vmtk5pms0jzb2kmtm00lwtn80000gn/T/ipykernel_48314/3465422768.py:7: SettingWithCopyWarning: \n",
      "A value is trying to be set on a copy of a slice from a DataFrame.\n",
      "Try using .loc[row_indexer,col_indexer] = value instead\n",
      "\n",
      "See the caveats in the documentation: https://pandas.pydata.org/pandas-docs/stable/user_guide/indexing.html#returning-a-view-versus-a-copy\n",
      "  candidates_top2['perc_spent'] = candidates_top2['money_spent'] / candidates_top2['total_spent'] * 100\n"
     ]
    },
    {
     "data": {
      "text/html": [
       "<div>\n",
       "<style scoped>\n",
       "    .dataframe tbody tr th:only-of-type {\n",
       "        vertical-align: middle;\n",
       "    }\n",
       "\n",
       "    .dataframe tbody tr th {\n",
       "        vertical-align: top;\n",
       "    }\n",
       "\n",
       "    .dataframe thead th {\n",
       "        text-align: right;\n",
       "    }\n",
       "</style>\n",
       "<table border=\"1\" class=\"dataframe\">\n",
       "  <thead>\n",
       "    <tr style=\"text-align: right;\">\n",
       "      <th></th>\n",
       "      <th>state_name</th>\n",
       "      <th>district</th>\n",
       "      <th>candidate_name</th>\n",
       "      <th>party</th>\n",
       "      <th>incumbent</th>\n",
       "      <th>winner</th>\n",
       "      <th>perc_vote</th>\n",
       "      <th>money_raised</th>\n",
       "      <th>money_spent</th>\n",
       "      <th>max_raised</th>\n",
       "      <th>max_spent</th>\n",
       "      <th>state_dist</th>\n",
       "      <th>total_raised</th>\n",
       "      <th>total_spent</th>\n",
       "      <th>perc_raised</th>\n",
       "      <th>perc_spent</th>\n",
       "    </tr>\n",
       "  </thead>\n",
       "  <tbody>\n",
       "    <tr>\n",
       "      <th>0</th>\n",
       "      <td>AL</td>\n",
       "      <td>1</td>\n",
       "      <td>Jerry Carl</td>\n",
       "      <td>R</td>\n",
       "      <td>not incumbent</td>\n",
       "      <td>1</td>\n",
       "      <td>64.9</td>\n",
       "      <td>1971321</td>\n",
       "      <td>1859349</td>\n",
       "      <td>1971321</td>\n",
       "      <td>1859349</td>\n",
       "      <td>AL1</td>\n",
       "      <td>2051416</td>\n",
       "      <td>1938322</td>\n",
       "      <td>96.095624</td>\n",
       "      <td>95.925703</td>\n",
       "    </tr>\n",
       "    <tr>\n",
       "      <th>1</th>\n",
       "      <td>AL</td>\n",
       "      <td>1</td>\n",
       "      <td>James Averhart</td>\n",
       "      <td>D</td>\n",
       "      <td>not incumbent</td>\n",
       "      <td>0</td>\n",
       "      <td>35.0</td>\n",
       "      <td>80095</td>\n",
       "      <td>78973</td>\n",
       "      <td>1971321</td>\n",
       "      <td>1859349</td>\n",
       "      <td>AL1</td>\n",
       "      <td>2051416</td>\n",
       "      <td>1938322</td>\n",
       "      <td>3.904376</td>\n",
       "      <td>4.074297</td>\n",
       "    </tr>\n",
       "    <tr>\n",
       "      <th>2</th>\n",
       "      <td>AL</td>\n",
       "      <td>2</td>\n",
       "      <td>Barry Moore</td>\n",
       "      <td>R</td>\n",
       "      <td>not incumbent</td>\n",
       "      <td>1</td>\n",
       "      <td>65.3</td>\n",
       "      <td>650807</td>\n",
       "      <td>669368</td>\n",
       "      <td>650807</td>\n",
       "      <td>669368</td>\n",
       "      <td>AL2</td>\n",
       "      <td>706857</td>\n",
       "      <td>725356</td>\n",
       "      <td>92.070532</td>\n",
       "      <td>92.281307</td>\n",
       "    </tr>\n",
       "    <tr>\n",
       "      <th>3</th>\n",
       "      <td>AL</td>\n",
       "      <td>2</td>\n",
       "      <td>Phyllis Harvey-Hall</td>\n",
       "      <td>D</td>\n",
       "      <td>not incumbent</td>\n",
       "      <td>0</td>\n",
       "      <td>34.6</td>\n",
       "      <td>56050</td>\n",
       "      <td>55988</td>\n",
       "      <td>650807</td>\n",
       "      <td>669368</td>\n",
       "      <td>AL2</td>\n",
       "      <td>706857</td>\n",
       "      <td>725356</td>\n",
       "      <td>7.929468</td>\n",
       "      <td>7.718693</td>\n",
       "    </tr>\n",
       "    <tr>\n",
       "      <th>4</th>\n",
       "      <td>AL</td>\n",
       "      <td>3</td>\n",
       "      <td>Mike D Rogers</td>\n",
       "      <td>R</td>\n",
       "      <td>Incumbent</td>\n",
       "      <td>1</td>\n",
       "      <td>67.5</td>\n",
       "      <td>1193111</td>\n",
       "      <td>1218564</td>\n",
       "      <td>1193111</td>\n",
       "      <td>1218564</td>\n",
       "      <td>AL3</td>\n",
       "      <td>1243384</td>\n",
       "      <td>1259535</td>\n",
       "      <td>95.956760</td>\n",
       "      <td>96.747133</td>\n",
       "    </tr>\n",
       "  </tbody>\n",
       "</table>\n",
       "</div>"
      ],
      "text/plain": [
       "  state_name  district       candidate_name party      incumbent  winner  \\\n",
       "0         AL         1           Jerry Carl     R  not incumbent       1   \n",
       "1         AL         1       James Averhart     D  not incumbent       0   \n",
       "2         AL         2          Barry Moore     R  not incumbent       1   \n",
       "3         AL         2  Phyllis Harvey-Hall     D  not incumbent       0   \n",
       "4         AL         3        Mike D Rogers     R      Incumbent       1   \n",
       "\n",
       "   perc_vote  money_raised  money_spent  max_raised  max_spent state_dist  \\\n",
       "0       64.9       1971321      1859349     1971321    1859349        AL1   \n",
       "1       35.0         80095        78973     1971321    1859349        AL1   \n",
       "2       65.3        650807       669368      650807     669368        AL2   \n",
       "3       34.6         56050        55988      650807     669368        AL2   \n",
       "4       67.5       1193111      1218564     1193111    1218564        AL3   \n",
       "\n",
       "   total_raised  total_spent  perc_raised  perc_spent  \n",
       "0       2051416      1938322    96.095624   95.925703  \n",
       "1       2051416      1938322     3.904376    4.074297  \n",
       "2        706857       725356    92.070532   92.281307  \n",
       "3        706857       725356     7.929468    7.718693  \n",
       "4       1243384      1259535    95.956760   96.747133  "
      ]
     },
     "execution_count": 70,
     "metadata": {},
     "output_type": "execute_result"
    }
   ],
   "source": [
    "# columns for total raised and spent by top two candidates in each race\n",
    "candidates_top2['total_raised'] = candidates_top2.groupby('state_dist')['money_raised'].transform('sum')\n",
    "candidates_top2['total_spent'] = candidates_top2.groupby('state_dist')['money_spent'].transform('sum')\n",
    "\n",
    "# column for % of total (not sure I need the $ difference, add later if needed)\n",
    "candidates_top2['perc_raised'] = candidates_top2['money_raised'] / candidates_top2['total_raised'] * 100\n",
    "candidates_top2['perc_spent'] = candidates_top2['money_spent'] / candidates_top2['total_spent'] * 100\n",
    "\n",
    "candidates_top2.head()"
   ]
  },
  {
   "cell_type": "code",
   "execution_count": null,
   "metadata": {},
   "outputs": [],
   "source": []
  }
 ],
 "metadata": {
  "kernelspec": {
   "display_name": "base",
   "language": "python",
   "name": "python3"
  },
  "language_info": {
   "codemirror_mode": {
    "name": "ipython",
    "version": 3
   },
   "file_extension": ".py",
   "mimetype": "text/x-python",
   "name": "python",
   "nbconvert_exporter": "python",
   "pygments_lexer": "ipython3",
   "version": "3.11.4"
  },
  "orig_nbformat": 4
 },
 "nbformat": 4,
 "nbformat_minor": 2
}
