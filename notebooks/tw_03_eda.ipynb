{
 "cells": [
  {
   "cell_type": "code",
   "execution_count": 28,
   "metadata": {},
   "outputs": [],
   "source": [
    "import pandas as pd\n",
    "import matplotlib.pyplot as plt\n",
    "import seaborn as sns"
   ]
  },
  {
   "cell_type": "code",
   "execution_count": 29,
   "metadata": {},
   "outputs": [
    {
     "data": {
      "text/html": [
       "<div>\n",
       "<style scoped>\n",
       "    .dataframe tbody tr th:only-of-type {\n",
       "        vertical-align: middle;\n",
       "    }\n",
       "\n",
       "    .dataframe tbody tr th {\n",
       "        vertical-align: top;\n",
       "    }\n",
       "\n",
       "    .dataframe thead th {\n",
       "        text-align: right;\n",
       "    }\n",
       "</style>\n",
       "<table border=\"1\" class=\"dataframe\">\n",
       "  <thead>\n",
       "    <tr style=\"text-align: right;\">\n",
       "      <th></th>\n",
       "      <th>state_name</th>\n",
       "      <th>district</th>\n",
       "      <th>candidate_name</th>\n",
       "      <th>party</th>\n",
       "      <th>incumbent</th>\n",
       "      <th>winner</th>\n",
       "      <th>perc_vote</th>\n",
       "      <th>money_raised</th>\n",
       "      <th>money_spent</th>\n",
       "    </tr>\n",
       "  </thead>\n",
       "  <tbody>\n",
       "    <tr>\n",
       "      <th>0</th>\n",
       "      <td>AL</td>\n",
       "      <td>1</td>\n",
       "      <td>Jerry Carl</td>\n",
       "      <td>R</td>\n",
       "      <td>not incumbent</td>\n",
       "      <td>1</td>\n",
       "      <td>64.9</td>\n",
       "      <td>1971321</td>\n",
       "      <td>1859349</td>\n",
       "    </tr>\n",
       "    <tr>\n",
       "      <th>1</th>\n",
       "      <td>AL</td>\n",
       "      <td>1</td>\n",
       "      <td>James Averhart</td>\n",
       "      <td>D</td>\n",
       "      <td>not incumbent</td>\n",
       "      <td>0</td>\n",
       "      <td>35.0</td>\n",
       "      <td>80095</td>\n",
       "      <td>78973</td>\n",
       "    </tr>\n",
       "    <tr>\n",
       "      <th>2</th>\n",
       "      <td>AL</td>\n",
       "      <td>2</td>\n",
       "      <td>Barry Moore</td>\n",
       "      <td>R</td>\n",
       "      <td>not incumbent</td>\n",
       "      <td>1</td>\n",
       "      <td>65.3</td>\n",
       "      <td>650807</td>\n",
       "      <td>669368</td>\n",
       "    </tr>\n",
       "    <tr>\n",
       "      <th>3</th>\n",
       "      <td>AL</td>\n",
       "      <td>2</td>\n",
       "      <td>Phyllis Harvey-Hall</td>\n",
       "      <td>D</td>\n",
       "      <td>not incumbent</td>\n",
       "      <td>0</td>\n",
       "      <td>34.6</td>\n",
       "      <td>56050</td>\n",
       "      <td>55988</td>\n",
       "    </tr>\n",
       "    <tr>\n",
       "      <th>4</th>\n",
       "      <td>AL</td>\n",
       "      <td>3</td>\n",
       "      <td>Mike D Rogers</td>\n",
       "      <td>R</td>\n",
       "      <td>Incumbent</td>\n",
       "      <td>1</td>\n",
       "      <td>67.5</td>\n",
       "      <td>1193111</td>\n",
       "      <td>1218564</td>\n",
       "    </tr>\n",
       "  </tbody>\n",
       "</table>\n",
       "</div>"
      ],
      "text/plain": [
       "  state_name  district       candidate_name party      incumbent  winner  \\\n",
       "0         AL         1           Jerry Carl     R  not incumbent       1   \n",
       "1         AL         1       James Averhart     D  not incumbent       0   \n",
       "2         AL         2          Barry Moore     R  not incumbent       1   \n",
       "3         AL         2  Phyllis Harvey-Hall     D  not incumbent       0   \n",
       "4         AL         3        Mike D Rogers     R      Incumbent       1   \n",
       "\n",
       "   perc_vote  money_raised  money_spent  \n",
       "0       64.9       1971321      1859349  \n",
       "1       35.0         80095        78973  \n",
       "2       65.3        650807       669368  \n",
       "3       34.6         56050        55988  \n",
       "4       67.5       1193111      1218564  "
      ]
     },
     "execution_count": 29,
     "metadata": {},
     "output_type": "execute_result"
    }
   ],
   "source": [
    "candidates = pd.read_csv('../data/candidates.csv')\n",
    "\n",
    "candidates.head()"
   ]
  },
  {
   "cell_type": "code",
   "execution_count": 30,
   "metadata": {},
   "outputs": [
    {
     "name": "stdout",
     "output_type": "stream",
     "text": [
      "<class 'pandas.core.frame.DataFrame'>\n",
      "RangeIndex: 892 entries, 0 to 891\n",
      "Data columns (total 9 columns):\n",
      " #   Column          Non-Null Count  Dtype  \n",
      "---  ------          --------------  -----  \n",
      " 0   state_name      892 non-null    object \n",
      " 1   district        892 non-null    int64  \n",
      " 2   candidate_name  892 non-null    object \n",
      " 3   party           892 non-null    object \n",
      " 4   incumbent       892 non-null    object \n",
      " 5   winner          892 non-null    int64  \n",
      " 6   perc_vote       892 non-null    float64\n",
      " 7   money_raised    892 non-null    int64  \n",
      " 8   money_spent     892 non-null    int64  \n",
      "dtypes: float64(1), int64(4), object(4)\n",
      "memory usage: 62.8+ KB\n"
     ]
    }
   ],
   "source": [
    "candidates.info()"
   ]
  },
  {
   "cell_type": "code",
   "execution_count": 31,
   "metadata": {},
   "outputs": [
    {
     "data": {
      "text/plain": [
       "D    423\n",
       "R    387\n",
       "I     46\n",
       "L     21\n",
       "3     15\n",
       "Name: party, dtype: int64"
      ]
     },
     "execution_count": 31,
     "metadata": {},
     "output_type": "execute_result"
    }
   ],
   "source": [
    "candidates['party'].value_counts()"
   ]
  },
  {
   "cell_type": "code",
   "execution_count": null,
   "metadata": {},
   "outputs": [],
   "source": []
  },
  {
   "cell_type": "code",
   "execution_count": null,
   "metadata": {},
   "outputs": [],
   "source": []
  },
  {
   "cell_type": "code",
   "execution_count": null,
   "metadata": {},
   "outputs": [],
   "source": []
  },
  {
   "cell_type": "markdown",
   "metadata": {},
   "source": [
    "### How often does the candidate who raised more money win a race?"
   ]
  },
  {
   "cell_type": "markdown",
   "metadata": {},
   "source": [
    "Partition by state and district, sort by money_raised, qualify row_num = 1 (to only have the person from each race who raised the most money). Chart value_counts of winner column."
   ]
  },
  {
   "cell_type": "code",
   "execution_count": 32,
   "metadata": {},
   "outputs": [],
   "source": [
    "# new column with max raised in each district race\n",
    "candidates['max_raised'] = candidates.groupby(['state_name', 'district'])['money_raised'].transform('max')"
   ]
  },
  {
   "cell_type": "code",
   "execution_count": 33,
   "metadata": {},
   "outputs": [],
   "source": [
    "raised_winner = candidates.loc[candidates['money_raised'] == candidates['max_raised']]"
   ]
  },
  {
   "cell_type": "code",
   "execution_count": 34,
   "metadata": {},
   "outputs": [
    {
     "data": {
      "image/png": "[encoded data removed]",
      "text/plain": [
       "<Figure size 640x480 with 1 Axes>"
      ]
     },
     "metadata": {},
     "output_type": "display_data"
    }
   ],
   "source": [
    "raised_winner['winner'].value_counts().plot.bar();"
   ]
  },
  {
   "cell_type": "markdown",
   "metadata": {},
   "source": [
    "#### How often does the candidate who spent more money win a race?"
   ]
  },
  {
   "cell_type": "markdown",
   "metadata": {},
   "source": [
    "Same strategy as previous question."
   ]
  },
  {
   "cell_type": "code",
   "execution_count": 35,
   "metadata": {},
   "outputs": [
    {
     "data": {
      "image/png": "[encoded data removed]",
      "text/plain": [
       "<Figure size 640x480 with 1 Axes>"
      ]
     },
     "metadata": {},
     "output_type": "display_data"
    }
   ],
   "source": [
    "# new column with max spent in each district race\n",
    "candidates['max_spent'] = candidates.groupby(['state_name', 'district'])['money_spent'].transform('max')\n",
    "\n",
    "spent_winner = candidates.loc[candidates['money_spent'] == candidates['max_spent']]\n",
    "\n",
    "spent_winner['winner'].value_counts().plot.bar();"
   ]
  },
  {
   "cell_type": "markdown",
   "metadata": {},
   "source": [
    "#### Does the difference between either money raised or money spent seem to influence the likelihood of a candidate winning a race?"
   ]
  },
  {
   "cell_type": "markdown",
   "metadata": {},
   "source": []
  }
 ],
 "metadata": {
  "kernelspec": {
   "display_name": "base",
   "language": "python",
   "name": "python3"
  },
  "language_info": {
   "codemirror_mode": {
    "name": "ipython",
    "version": 3
   },
   "file_extension": ".py",
   "mimetype": "text/x-python",
   "name": "python",
   "nbconvert_exporter": "python",
   "pygments_lexer": "ipython3",
   "version": "3.11.4"
  },
  "orig_nbformat": 4
 },
 "nbformat": 4,
 "nbformat_minor": 2
}
