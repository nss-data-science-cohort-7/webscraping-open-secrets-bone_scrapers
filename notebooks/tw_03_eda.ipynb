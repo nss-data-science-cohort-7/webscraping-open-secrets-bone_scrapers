{
 "cells": [
  {
   "cell_type": "code",
   "execution_count": 1,
   "metadata": {},
   "outputs": [],
   "source": [
    "import pandas as pd\n",
    "import matplotlib.pyplot as plt\n",
    "import seaborn as sns"
   ]
  },
  {
   "cell_type": "code",
   "execution_count": 2,
   "metadata": {},
   "outputs": [
    {
     "data": {
      "text/html": [
       "<div>\n",
       "<style scoped>\n",
       "    .dataframe tbody tr th:only-of-type {\n",
       "        vertical-align: middle;\n",
       "    }\n",
       "\n",
       "    .dataframe tbody tr th {\n",
       "        vertical-align: top;\n",
       "    }\n",
       "\n",
       "    .dataframe thead th {\n",
       "        text-align: right;\n",
       "    }\n",
       "</style>\n",
       "<table border=\"1\" class=\"dataframe\">\n",
       "  <thead>\n",
       "    <tr style=\"text-align: right;\">\n",
       "      <th></th>\n",
       "      <th>candidate_name</th>\n",
       "      <th>party</th>\n",
       "      <th>incumbent</th>\n",
       "      <th>winner</th>\n",
       "      <th>perc_vote</th>\n",
       "      <th>money_raised</th>\n",
       "      <th>money_spent</th>\n",
       "      <th>state_name</th>\n",
       "      <th>district</th>\n",
       "      <th>state_dist</th>\n",
       "      <th>perc_vote_max</th>\n",
       "      <th>winner_bool</th>\n",
       "    </tr>\n",
       "  </thead>\n",
       "  <tbody>\n",
       "    <tr>\n",
       "      <th>0</th>\n",
       "      <td>Jerry Carl</td>\n",
       "      <td>R</td>\n",
       "      <td>0</td>\n",
       "      <td>1</td>\n",
       "      <td>64.9</td>\n",
       "      <td>1971321</td>\n",
       "      <td>1859349</td>\n",
       "      <td>AL</td>\n",
       "      <td>1</td>\n",
       "      <td>AL01</td>\n",
       "      <td>64.9</td>\n",
       "      <td>1</td>\n",
       "    </tr>\n",
       "    <tr>\n",
       "      <th>1</th>\n",
       "      <td>James Averhart</td>\n",
       "      <td>D</td>\n",
       "      <td>0</td>\n",
       "      <td>0</td>\n",
       "      <td>35.0</td>\n",
       "      <td>80095</td>\n",
       "      <td>78973</td>\n",
       "      <td>AL</td>\n",
       "      <td>1</td>\n",
       "      <td>AL01</td>\n",
       "      <td>64.9</td>\n",
       "      <td>0</td>\n",
       "    </tr>\n",
       "    <tr>\n",
       "      <th>2</th>\n",
       "      <td>Barry Moore</td>\n",
       "      <td>R</td>\n",
       "      <td>0</td>\n",
       "      <td>1</td>\n",
       "      <td>65.3</td>\n",
       "      <td>650807</td>\n",
       "      <td>669368</td>\n",
       "      <td>AL</td>\n",
       "      <td>2</td>\n",
       "      <td>AL02</td>\n",
       "      <td>65.3</td>\n",
       "      <td>1</td>\n",
       "    </tr>\n",
       "    <tr>\n",
       "      <th>3</th>\n",
       "      <td>Phyllis Harvey-Hall</td>\n",
       "      <td>D</td>\n",
       "      <td>0</td>\n",
       "      <td>0</td>\n",
       "      <td>34.6</td>\n",
       "      <td>56050</td>\n",
       "      <td>55988</td>\n",
       "      <td>AL</td>\n",
       "      <td>2</td>\n",
       "      <td>AL02</td>\n",
       "      <td>65.3</td>\n",
       "      <td>0</td>\n",
       "    </tr>\n",
       "    <tr>\n",
       "      <th>4</th>\n",
       "      <td>Mike D Rogers</td>\n",
       "      <td>R</td>\n",
       "      <td>1</td>\n",
       "      <td>1</td>\n",
       "      <td>67.5</td>\n",
       "      <td>1193111</td>\n",
       "      <td>1218564</td>\n",
       "      <td>AL</td>\n",
       "      <td>3</td>\n",
       "      <td>AL03</td>\n",
       "      <td>67.5</td>\n",
       "      <td>1</td>\n",
       "    </tr>\n",
       "  </tbody>\n",
       "</table>\n",
       "</div>"
      ],
      "text/plain": [
       "        candidate_name party  incumbent  winner  perc_vote  money_raised  \\\n",
       "0           Jerry Carl     R          0       1       64.9       1971321   \n",
       "1       James Averhart     D          0       0       35.0         80095   \n",
       "2          Barry Moore     R          0       1       65.3        650807   \n",
       "3  Phyllis Harvey-Hall     D          0       0       34.6         56050   \n",
       "4        Mike D Rogers     R          1       1       67.5       1193111   \n",
       "\n",
       "   money_spent state_name  district state_dist  perc_vote_max  winner_bool  \n",
       "0      1859349         AL         1       AL01           64.9            1  \n",
       "1        78973         AL         1       AL01           64.9            0  \n",
       "2       669368         AL         2       AL02           65.3            1  \n",
       "3        55988         AL         2       AL02           65.3            0  \n",
       "4      1218564         AL         3       AL03           67.5            1  "
      ]
     },
     "execution_count": 2,
     "metadata": {},
     "output_type": "execute_result"
    }
   ],
   "source": [
    "candidates = pd.read_csv('../data/candidates_clean.csv', dtype = {'district': 'str'}) # refactor to explicitly set district as string\n",
    "\n",
    "candidates.head()"
   ]
  },
  {
   "cell_type": "code",
   "execution_count": 3,
   "metadata": {},
   "outputs": [
    {
     "name": "stdout",
     "output_type": "stream",
     "text": [
      "<class 'pandas.core.frame.DataFrame'>\n",
      "RangeIndex: 883 entries, 0 to 882\n",
      "Data columns (total 12 columns):\n",
      " #   Column          Non-Null Count  Dtype  \n",
      "---  ------          --------------  -----  \n",
      " 0   candidate_name  883 non-null    object \n",
      " 1   party           883 non-null    object \n",
      " 2   incumbent       883 non-null    int64  \n",
      " 3   winner          883 non-null    int64  \n",
      " 4   perc_vote       883 non-null    float64\n",
      " 5   money_raised    883 non-null    int64  \n",
      " 6   money_spent     883 non-null    int64  \n",
      " 7   state_name      883 non-null    object \n",
      " 8   district        883 non-null    int64  \n",
      " 9   state_dist      883 non-null    object \n",
      " 10  perc_vote_max   883 non-null    float64\n",
      " 11  winner_bool     883 non-null    int64  \n",
      "dtypes: float64(2), int64(6), object(4)\n",
      "memory usage: 82.9+ KB\n"
     ]
    }
   ],
   "source": [
    "candidates.info()"
   ]
  },
  {
   "cell_type": "code",
   "execution_count": null,
   "metadata": {},
   "outputs": [],
   "source": [
    "candidates['party'].value_counts()"
   ]
  },
  {
   "cell_type": "code",
   "execution_count": null,
   "metadata": {},
   "outputs": [],
   "source": [
    "candidates.loc[(candidates['party'].isin(['I', 'L', '3'])) & (candidates['winner'] == 1)]\n",
    "\n",
    "# no independent or 3rd party candidate won a race"
   ]
  },
  {
   "cell_type": "markdown",
   "metadata": {},
   "source": [
    "### how many races didn't have an incumbant running? How does that correlate with number of candidates in the race?"
   ]
  },
  {
   "cell_type": "markdown",
   "metadata": {},
   "source": [
    "### How often does the candidate who raised more money win a race?"
   ]
  },
  {
   "cell_type": "markdown",
   "metadata": {},
   "source": [
    "Partition by state and district, sort by money_raised, qualify row_num = 1 (to only have the person from each race who raised the most money). Chart value_counts of winner column."
   ]
  },
  {
   "cell_type": "code",
   "execution_count": null,
   "metadata": {},
   "outputs": [],
   "source": [
    "# new column with max raised in each district race\n",
    "candidates['max_raised'] = candidates.groupby(['state_name', 'district'])['money_raised'].transform('max')"
   ]
  },
  {
   "cell_type": "code",
   "execution_count": null,
   "metadata": {},
   "outputs": [],
   "source": [
    "raised_winner = candidates.loc[candidates['money_raised'] == candidates['max_raised']]"
   ]
  },
  {
   "cell_type": "code",
   "execution_count": null,
   "metadata": {},
   "outputs": [],
   "source": [
    "fontsize = 14\n",
    "\n",
    "plt.figure(figsize = (10,6))\n",
    "raised_winner['winner'].value_counts().plot(kind = 'bar')\n",
    "plt.xticks(rotation = 0, labels = ['Winner', 'Not Winner'], ticks = [0, 1], fontsize = fontsize)\n",
    "plt.yticks(fontsize = fontsize)\n",
    "plt.title('Test Title', fontsize = fontsize + 2, )\n",
    "plt.tight_layout()\n",
    "plt.savefig('../data/test.png', dpi = 150);"
   ]
  },
  {
   "cell_type": "markdown",
   "metadata": {},
   "source": [
    "#### How often does the candidate who spent more money win a race?"
   ]
  },
  {
   "cell_type": "markdown",
   "metadata": {},
   "source": [
    "Same strategy as previous question."
   ]
  },
  {
   "cell_type": "code",
   "execution_count": null,
   "metadata": {},
   "outputs": [],
   "source": [
    "# new column with max spent in each district race\n",
    "candidates['max_spent'] = candidates.groupby(['state_name', 'district'])['money_spent'].transform('max')\n",
    "\n",
    "spent_winner = candidates.loc[candidates['money_spent'] == candidates['max_spent']]\n",
    "\n",
    "spent_winner['winner'].value_counts().plot.bar()\n",
    "plt.xticks(rotation = 0, labels = ['Winner', 'Not Winner'], ticks = [0, 1]);\n",
    "\n",
    "# are the ones who raised and spent the most money completely synonymous? Seems likely"
   ]
  },
  {
   "cell_type": "markdown",
   "metadata": {},
   "source": [
    "#### Does the difference between either money raised or money spent seem to influence the likelihood of a candidate winning a race?"
   ]
  },
  {
   "cell_type": "markdown",
   "metadata": {},
   "source": [
    "strategy: filter to top 2 candidates in each race, new column calculating the total spent in the race, and a column calculating the difference between winner and 2nd place in $, plus % calculation\n"
   ]
  },
  {
   "cell_type": "code",
   "execution_count": null,
   "metadata": {},
   "outputs": [],
   "source": [
    "# adding column to concat state and district, move earlier in future refactor\n",
    "candidates['state_dist'] = candidates['state_name'] + candidates['district'].astype('str')\n",
    "\n",
    "candidates.head(1)"
   ]
  },
  {
   "cell_type": "code",
   "execution_count": null,
   "metadata": {},
   "outputs": [],
   "source": [
    "# filter to max 2 from each race\n",
    "\n",
    "candidates_top2 = candidates.iloc[candidates.reset_index().groupby(['state_name', 'district'])['perc_vote'].nlargest(2).index.levels[2]] # refactor to account for the concat column I added above (easier, not strictly necessary)\n",
    "\n",
    "candidates_top2.head()"
   ]
  },
  {
   "cell_type": "code",
   "execution_count": null,
   "metadata": {},
   "outputs": [],
   "source": [
    "candidates_top2.shape\n",
    "\n",
    "# full candidates df has 892 rows, seems like not too many races have more than 2 candidates (or many districts are uncontested)"
   ]
  },
  {
   "cell_type": "markdown",
   "metadata": {},
   "source": [
    "side question - how many races are uncontested? Even in Alabama with 7 districts, it looks like 4 of them were uncontested."
   ]
  },
  {
   "cell_type": "code",
   "execution_count": null,
   "metadata": {},
   "outputs": [],
   "source": [
    "(candidates_top2['state_dist'].value_counts() == 1).sum()\n",
    "\n",
    "# 60 seats uncontested, see what the guys think about including this kind of information and make a graph"
   ]
  },
  {
   "cell_type": "code",
   "execution_count": null,
   "metadata": {},
   "outputs": [],
   "source": [
    "# columns for total raised and spent by top two candidates in each race\n",
    "candidates_top2['total_raised'] = candidates_top2.groupby('state_dist')['money_raised'].transform('sum')\n",
    "candidates_top2['total_spent'] = candidates_top2.groupby('state_dist')['money_spent'].transform('sum')\n",
    "\n",
    "# column for % of total (not sure I need the $ difference, add later if needed)\n",
    "candidates_top2['perc_raised'] = candidates_top2['money_raised'] / candidates_top2['total_raised'] * 100\n",
    "candidates_top2['perc_spent'] = candidates_top2['money_spent'] / candidates_top2['total_spent'] * 100\n",
    "\n",
    "candidates_top2.head()"
   ]
  },
  {
   "cell_type": "code",
   "execution_count": null,
   "metadata": {},
   "outputs": [],
   "source": []
  }
 ],
 "metadata": {
  "kernelspec": {
   "display_name": "base",
   "language": "python",
   "name": "python3"
  },
  "language_info": {
   "codemirror_mode": {
    "name": "ipython",
    "version": 3
   },
   "file_extension": ".py",
   "mimetype": "text/x-python",
   "name": "python",
   "nbconvert_exporter": "python",
   "pygments_lexer": "ipython3",
   "version": "3.11.4"
  },
  "orig_nbformat": 4
 },
 "nbformat": 4,
 "nbformat_minor": 2
}
