{
 "cells": [
  {
   "cell_type": "code",
   "execution_count": 20,
   "metadata": {},
   "outputs": [],
   "source": [
    "import pandas as pd\n",
    "import numpy as np"
   ]
  },
  {
   "cell_type": "code",
   "execution_count": 107,
   "metadata": {},
   "outputs": [],
   "source": [
    "candidates = pd.read_csv('../data/candidates1.csv', dtype = {'District Number': 'str', 'Cash Raised': 'int', 'Cash Spent': 'int'}) # district needs to be string in order to maintain leading 0, cash should be int for clarity"
   ]
  },
  {
   "cell_type": "code",
   "execution_count": 108,
   "metadata": {},
   "outputs": [
    {
     "data": {
      "text/html": [
       "<div>\n",
       "<style scoped>\n",
       "    .dataframe tbody tr th:only-of-type {\n",
       "        vertical-align: middle;\n",
       "    }\n",
       "\n",
       "    .dataframe tbody tr th {\n",
       "        vertical-align: top;\n",
       "    }\n",
       "\n",
       "    .dataframe thead th {\n",
       "        text-align: right;\n",
       "    }\n",
       "</style>\n",
       "<table border=\"1\" class=\"dataframe\">\n",
       "  <thead>\n",
       "    <tr style=\"text-align: right;\">\n",
       "      <th></th>\n",
       "      <th>Unnamed: 0</th>\n",
       "      <th>Name</th>\n",
       "      <th>Affiliation</th>\n",
       "      <th>Incumbent</th>\n",
       "      <th>Winner</th>\n",
       "      <th>Vote %</th>\n",
       "      <th>Cash Raised</th>\n",
       "      <th>Cash Spent</th>\n",
       "      <th>State</th>\n",
       "      <th>District Number</th>\n",
       "    </tr>\n",
       "  </thead>\n",
       "  <tbody>\n",
       "    <tr>\n",
       "      <th>0</th>\n",
       "      <td>0</td>\n",
       "      <td>Jerry Carl</td>\n",
       "      <td>R</td>\n",
       "      <td>0</td>\n",
       "      <td>1</td>\n",
       "      <td>64.9</td>\n",
       "      <td>1971321</td>\n",
       "      <td>1859349</td>\n",
       "      <td>AL</td>\n",
       "      <td>01</td>\n",
       "    </tr>\n",
       "  </tbody>\n",
       "</table>\n",
       "</div>"
      ],
      "text/plain": [
       "   Unnamed: 0        Name Affiliation  Incumbent  Winner  Vote %  Cash Raised  \\\n",
       "0           0  Jerry Carl           R          0       1    64.9      1971321   \n",
       "\n",
       "   Cash Spent State District Number  \n",
       "0     1859349    AL              01  "
      ]
     },
     "execution_count": 108,
     "metadata": {},
     "output_type": "execute_result"
    }
   ],
   "source": [
    "candidates.head(1)"
   ]
  },
  {
   "cell_type": "code",
   "execution_count": 109,
   "metadata": {},
   "outputs": [
    {
     "data": {
      "text/html": [
       "<div>\n",
       "<style scoped>\n",
       "    .dataframe tbody tr th:only-of-type {\n",
       "        vertical-align: middle;\n",
       "    }\n",
       "\n",
       "    .dataframe tbody tr th {\n",
       "        vertical-align: top;\n",
       "    }\n",
       "\n",
       "    .dataframe thead th {\n",
       "        text-align: right;\n",
       "    }\n",
       "</style>\n",
       "<table border=\"1\" class=\"dataframe\">\n",
       "  <thead>\n",
       "    <tr style=\"text-align: right;\">\n",
       "      <th></th>\n",
       "      <th>candidate_name</th>\n",
       "      <th>party</th>\n",
       "      <th>incumbent</th>\n",
       "      <th>winner</th>\n",
       "      <th>perc_vote</th>\n",
       "      <th>money_raised</th>\n",
       "      <th>money_spent</th>\n",
       "      <th>state_name</th>\n",
       "      <th>district</th>\n",
       "    </tr>\n",
       "  </thead>\n",
       "  <tbody>\n",
       "    <tr>\n",
       "      <th>0</th>\n",
       "      <td>Jerry Carl</td>\n",
       "      <td>R</td>\n",
       "      <td>0</td>\n",
       "      <td>1</td>\n",
       "      <td>64.9</td>\n",
       "      <td>1971321</td>\n",
       "      <td>1859349</td>\n",
       "      <td>AL</td>\n",
       "      <td>01</td>\n",
       "    </tr>\n",
       "  </tbody>\n",
       "</table>\n",
       "</div>"
      ],
      "text/plain": [
       "  candidate_name party  incumbent  winner  perc_vote  money_raised  \\\n",
       "0     Jerry Carl     R          0       1       64.9       1971321   \n",
       "\n",
       "   money_spent state_name district  \n",
       "0      1859349         AL       01  "
      ]
     },
     "execution_count": 109,
     "metadata": {},
     "output_type": "execute_result"
    }
   ],
   "source": [
    "# rename columns and drop old index\n",
    "candidates = candidates.drop('Unnamed: 0', axis = 1)\n",
    "candidates.columns = ['candidate_name', 'party', 'incumbent', 'winner', 'perc_vote', 'money_raised', 'money_spent', 'state_name', 'district']\n",
    "\n",
    "candidates.head(1)"
   ]
  },
  {
   "cell_type": "code",
   "execution_count": 110,
   "metadata": {},
   "outputs": [
    {
     "name": "stdout",
     "output_type": "stream",
     "text": [
      "<class 'pandas.core.frame.DataFrame'>\n",
      "RangeIndex: 892 entries, 0 to 891\n",
      "Data columns (total 9 columns):\n",
      " #   Column          Non-Null Count  Dtype  \n",
      "---  ------          --------------  -----  \n",
      " 0   candidate_name  892 non-null    object \n",
      " 1   party           892 non-null    object \n",
      " 2   incumbent       892 non-null    int64  \n",
      " 3   winner          892 non-null    int64  \n",
      " 4   perc_vote       841 non-null    float64\n",
      " 5   money_raised    892 non-null    int64  \n",
      " 6   money_spent     892 non-null    int64  \n",
      " 7   state_name      892 non-null    object \n",
      " 8   district        892 non-null    object \n",
      "dtypes: float64(1), int64(4), object(4)\n",
      "memory usage: 62.8+ KB\n"
     ]
    }
   ],
   "source": [
    "candidates.info() # confirm all types as desired"
   ]
  },
  {
   "cell_type": "code",
   "execution_count": 111,
   "metadata": {},
   "outputs": [
    {
     "data": {
      "text/html": [
       "<div>\n",
       "<style scoped>\n",
       "    .dataframe tbody tr th:only-of-type {\n",
       "        vertical-align: middle;\n",
       "    }\n",
       "\n",
       "    .dataframe tbody tr th {\n",
       "        vertical-align: top;\n",
       "    }\n",
       "\n",
       "    .dataframe thead th {\n",
       "        text-align: right;\n",
       "    }\n",
       "</style>\n",
       "<table border=\"1\" class=\"dataframe\">\n",
       "  <thead>\n",
       "    <tr style=\"text-align: right;\">\n",
       "      <th></th>\n",
       "      <th>candidate_name</th>\n",
       "      <th>party</th>\n",
       "      <th>incumbent</th>\n",
       "      <th>winner</th>\n",
       "      <th>perc_vote</th>\n",
       "      <th>money_raised</th>\n",
       "      <th>money_spent</th>\n",
       "      <th>state_name</th>\n",
       "      <th>district</th>\n",
       "      <th>state_dist</th>\n",
       "    </tr>\n",
       "  </thead>\n",
       "  <tbody>\n",
       "    <tr>\n",
       "      <th>0</th>\n",
       "      <td>Jerry Carl</td>\n",
       "      <td>R</td>\n",
       "      <td>0</td>\n",
       "      <td>1</td>\n",
       "      <td>64.9</td>\n",
       "      <td>1971321</td>\n",
       "      <td>1859349</td>\n",
       "      <td>AL</td>\n",
       "      <td>01</td>\n",
       "      <td>AL01</td>\n",
       "    </tr>\n",
       "  </tbody>\n",
       "</table>\n",
       "</div>"
      ],
      "text/plain": [
       "  candidate_name party  incumbent  winner  perc_vote  money_raised  \\\n",
       "0     Jerry Carl     R          0       1       64.9       1971321   \n",
       "\n",
       "   money_spent state_name district state_dist  \n",
       "0      1859349         AL       01       AL01  "
      ]
     },
     "execution_count": 111,
     "metadata": {},
     "output_type": "execute_result"
    }
   ],
   "source": [
    "# add column to concat state and district (reduces groupby complexity in analysis)\n",
    "candidates['state_dist'] = candidates['state_name'] + candidates['district']\n",
    "\n",
    "candidates.head(1)"
   ]
  },
  {
   "cell_type": "code",
   "execution_count": 112,
   "metadata": {},
   "outputs": [
    {
     "name": "stdout",
     "output_type": "stream",
     "text": [
      "50\n"
     ]
    },
    {
     "data": {
      "text/plain": [
       "array(['AL', 'AK', 'AZ', 'AR', 'CA', 'CO', 'CT', 'DE', 'FL', 'GA', 'HI',\n",
       "       'ID', 'IL', 'IN', 'IA', 'KS', 'KY', 'LA', 'ME', 'MD', 'MA', 'MI',\n",
       "       'MN', 'MS', 'MO', 'MT', 'NE', 'NV', 'NH', 'NJ', 'NM', 'NY', 'NC',\n",
       "       'ND', 'OH', 'OK', 'OR', 'PA', 'RI', 'SC', 'SD', 'TN', 'TX', 'UT',\n",
       "       'VT', 'VA', 'WA', 'WV', 'WI', 'WY'], dtype=object)"
      ]
     },
     "execution_count": 112,
     "metadata": {},
     "output_type": "execute_result"
    }
   ],
   "source": [
    "print(candidates['state_name'].nunique())\n",
    "candidates['state_name'].unique()\n",
    "\n",
    "# confirms that 50 states are present in the data, and the 2-letter abbreviations are correct"
   ]
  },
  {
   "cell_type": "code",
   "execution_count": 113,
   "metadata": {},
   "outputs": [
    {
     "data": {
      "text/plain": [
       "435"
      ]
     },
     "execution_count": 113,
     "metadata": {},
     "output_type": "execute_result"
    }
   ],
   "source": [
    "candidates['state_dist'].nunique()\n",
    "\n",
    "# correct number of districts, matches the number of seats with voting rights as established by US law"
   ]
  },
  {
   "cell_type": "code",
   "execution_count": 114,
   "metadata": {},
   "outputs": [
    {
     "data": {
      "text/plain": [
       "891"
      ]
     },
     "execution_count": 114,
     "metadata": {},
     "output_type": "execute_result"
    }
   ],
   "source": [
    "candidates['candidate_name'].nunique()\n",
    "\n",
    "# 2 candidates with the same name (Antonio Delgado, just in case it's an issue which I don't expect to happen)"
   ]
  },
  {
   "cell_type": "code",
   "execution_count": 115,
   "metadata": {},
   "outputs": [
    {
     "data": {
      "text/plain": [
       "D    423\n",
       "R    387\n",
       "I     46\n",
       "L     21\n",
       "3     15\n",
       "Name: party, dtype: int64"
      ]
     },
     "execution_count": 115,
     "metadata": {},
     "output_type": "execute_result"
    }
   ],
   "source": [
    "candidates['party'].value_counts()\n",
    "\n",
    "# confirm party affiliation is present and correct"
   ]
  },
  {
   "cell_type": "code",
   "execution_count": 116,
   "metadata": {},
   "outputs": [
    {
     "data": {
      "text/plain": [
       "0    506\n",
       "1    386\n",
       "Name: incumbent, dtype: int64"
      ]
     },
     "execution_count": 116,
     "metadata": {},
     "output_type": "execute_result"
    }
   ],
   "source": [
    "candidates['incumbent'].value_counts()\n",
    "\n",
    "# all rows have a value, change to boolean - 1 for incumbent, 0 for not"
   ]
  },
  {
   "cell_type": "code",
   "execution_count": null,
   "metadata": {},
   "outputs": [],
   "source": [
    "# not needed for Sourish's scraped data\n",
    "\n",
    "# conditions = [\n",
    "#     candidates['incumbent'] == 'not incumbent',\n",
    "#     candidates['incumbent'] == 'Incumbent'\n",
    "# ]\n",
    "\n",
    "# outputs = [ 0, 1 ]\n",
    "\n",
    "# res = np.select(conditions, outputs)\n",
    "\n",
    "# candidates['incumbent_bool'] = pd.Series(res)"
   ]
  },
  {
   "cell_type": "code",
   "execution_count": 117,
   "metadata": {},
   "outputs": [
    {
     "data": {
      "text/plain": [
       "0    461\n",
       "1    431\n",
       "Name: winner, dtype: int64"
      ]
     },
     "execution_count": 117,
     "metadata": {},
     "output_type": "execute_result"
    }
   ],
   "source": [
    "candidates['winner'].value_counts()\n",
    "\n",
    "# there should be 435 winners, but only 431 are indicated in the data"
   ]
  },
  {
   "cell_type": "code",
   "execution_count": 118,
   "metadata": {},
   "outputs": [],
   "source": [
    "# check perc_votes, any districts with no vote percentages?\n",
    "\n",
    "null_votes = candidates.loc[candidates['perc_vote'].isnull()]\n",
    "\n",
    "# no candidates with votes information in these districts: LA05, NY22\n",
    "# drop those districts since no vote information available, set other null perc_vote to 0"
   ]
  },
  {
   "cell_type": "code",
   "execution_count": 119,
   "metadata": {},
   "outputs": [],
   "source": [
    "candidates = candidates.loc[~candidates['state_dist'].isin(['LA05', 'NY22'])]"
   ]
  },
  {
   "cell_type": "code",
   "execution_count": 120,
   "metadata": {},
   "outputs": [],
   "source": [
    "candidates['perc_vote'].fillna(0, inplace = True)"
   ]
  },
  {
   "cell_type": "code",
   "execution_count": 121,
   "metadata": {},
   "outputs": [
    {
     "name": "stdout",
     "output_type": "stream",
     "text": [
      "<class 'pandas.core.frame.DataFrame'>\n",
      "Int64Index: 883 entries, 0 to 891\n",
      "Data columns (total 10 columns):\n",
      " #   Column          Non-Null Count  Dtype  \n",
      "---  ------          --------------  -----  \n",
      " 0   candidate_name  883 non-null    object \n",
      " 1   party           883 non-null    object \n",
      " 2   incumbent       883 non-null    int64  \n",
      " 3   winner          883 non-null    int64  \n",
      " 4   perc_vote       883 non-null    float64\n",
      " 5   money_raised    883 non-null    int64  \n",
      " 6   money_spent     883 non-null    int64  \n",
      " 7   state_name      883 non-null    object \n",
      " 8   district        883 non-null    object \n",
      " 9   state_dist      883 non-null    object \n",
      "dtypes: float64(1), int64(4), object(5)\n",
      "memory usage: 75.9+ KB\n"
     ]
    }
   ],
   "source": [
    "candidates.info()"
   ]
  },
  {
   "cell_type": "code",
   "execution_count": 122,
   "metadata": {},
   "outputs": [
    {
     "data": {
      "text/plain": [
       "0    452\n",
       "1    431\n",
       "Name: winner, dtype: int64"
      ]
     },
     "execution_count": 122,
     "metadata": {},
     "output_type": "execute_result"
    }
   ],
   "source": [
    "candidates['winner'].value_counts()\n",
    "\n",
    "# still need to determine winners for 2 districts"
   ]
  },
  {
   "cell_type": "code",
   "execution_count": 123,
   "metadata": {},
   "outputs": [
    {
     "data": {
      "text/plain": [
       "(435, 10)"
      ]
     },
     "execution_count": 123,
     "metadata": {},
     "output_type": "execute_result"
    }
   ],
   "source": [
    "# not sure this is the best way (almost certainly not), but it will work\n",
    "# new dataframe with just the top % vote per district (keep only state_dist and perc_vote columns)\n",
    "# merge with original dataframe on state_dist\n",
    "# the np.select method should then work since the condition is more straightforward\n",
    "\n",
    "winners = candidates[candidates.groupby(['state_dist'])['perc_vote'].transform('max') == candidates['perc_vote']].rename({'perc_vote': 'perc_vote_max'}, axis = 1)\n",
    "winners.shape\n"
   ]
  },
  {
   "cell_type": "code",
   "execution_count": 124,
   "metadata": {},
   "outputs": [
    {
     "data": {
      "text/plain": [
       "(433, 10)"
      ]
     },
     "execution_count": 124,
     "metadata": {},
     "output_type": "execute_result"
    }
   ],
   "source": [
    "# two districts were apparently absolutely evenly split 50/50 - filter the non-winning 50% candidate out of winners\n",
    "winners = winners.loc[~winners['candidate_name'].isin(['Christy Smith', 'Rita Hart'])]\n",
    "winners.shape"
   ]
  },
  {
   "cell_type": "code",
   "execution_count": 125,
   "metadata": {},
   "outputs": [
    {
     "data": {
      "text/html": [
       "<div>\n",
       "<style scoped>\n",
       "    .dataframe tbody tr th:only-of-type {\n",
       "        vertical-align: middle;\n",
       "    }\n",
       "\n",
       "    .dataframe tbody tr th {\n",
       "        vertical-align: top;\n",
       "    }\n",
       "\n",
       "    .dataframe thead th {\n",
       "        text-align: right;\n",
       "    }\n",
       "</style>\n",
       "<table border=\"1\" class=\"dataframe\">\n",
       "  <thead>\n",
       "    <tr style=\"text-align: right;\">\n",
       "      <th></th>\n",
       "      <th>candidate_name</th>\n",
       "      <th>party</th>\n",
       "      <th>incumbent</th>\n",
       "      <th>winner</th>\n",
       "      <th>perc_vote</th>\n",
       "      <th>money_raised</th>\n",
       "      <th>money_spent</th>\n",
       "      <th>state_name</th>\n",
       "      <th>district</th>\n",
       "      <th>state_dist</th>\n",
       "      <th>perc_vote_max</th>\n",
       "    </tr>\n",
       "  </thead>\n",
       "  <tbody>\n",
       "    <tr>\n",
       "      <th>0</th>\n",
       "      <td>Jerry Carl</td>\n",
       "      <td>R</td>\n",
       "      <td>0</td>\n",
       "      <td>1</td>\n",
       "      <td>64.9</td>\n",
       "      <td>1971321</td>\n",
       "      <td>1859349</td>\n",
       "      <td>AL</td>\n",
       "      <td>01</td>\n",
       "      <td>AL01</td>\n",
       "      <td>64.9</td>\n",
       "    </tr>\n",
       "    <tr>\n",
       "      <th>1</th>\n",
       "      <td>James Averhart</td>\n",
       "      <td>D</td>\n",
       "      <td>0</td>\n",
       "      <td>0</td>\n",
       "      <td>35.0</td>\n",
       "      <td>80095</td>\n",
       "      <td>78973</td>\n",
       "      <td>AL</td>\n",
       "      <td>01</td>\n",
       "      <td>AL01</td>\n",
       "      <td>64.9</td>\n",
       "    </tr>\n",
       "    <tr>\n",
       "      <th>2</th>\n",
       "      <td>Barry Moore</td>\n",
       "      <td>R</td>\n",
       "      <td>0</td>\n",
       "      <td>1</td>\n",
       "      <td>65.3</td>\n",
       "      <td>650807</td>\n",
       "      <td>669368</td>\n",
       "      <td>AL</td>\n",
       "      <td>02</td>\n",
       "      <td>AL02</td>\n",
       "      <td>65.3</td>\n",
       "    </tr>\n",
       "    <tr>\n",
       "      <th>3</th>\n",
       "      <td>Phyllis Harvey-Hall</td>\n",
       "      <td>D</td>\n",
       "      <td>0</td>\n",
       "      <td>0</td>\n",
       "      <td>34.6</td>\n",
       "      <td>56050</td>\n",
       "      <td>55988</td>\n",
       "      <td>AL</td>\n",
       "      <td>02</td>\n",
       "      <td>AL02</td>\n",
       "      <td>65.3</td>\n",
       "    </tr>\n",
       "    <tr>\n",
       "      <th>4</th>\n",
       "      <td>Mike D Rogers</td>\n",
       "      <td>R</td>\n",
       "      <td>1</td>\n",
       "      <td>1</td>\n",
       "      <td>67.5</td>\n",
       "      <td>1193111</td>\n",
       "      <td>1218564</td>\n",
       "      <td>AL</td>\n",
       "      <td>03</td>\n",
       "      <td>AL03</td>\n",
       "      <td>67.5</td>\n",
       "    </tr>\n",
       "  </tbody>\n",
       "</table>\n",
       "</div>"
      ],
      "text/plain": [
       "        candidate_name party  incumbent  winner  perc_vote  money_raised  \\\n",
       "0           Jerry Carl     R          0       1       64.9       1971321   \n",
       "1       James Averhart     D          0       0       35.0         80095   \n",
       "2          Barry Moore     R          0       1       65.3        650807   \n",
       "3  Phyllis Harvey-Hall     D          0       0       34.6         56050   \n",
       "4        Mike D Rogers     R          1       1       67.5       1193111   \n",
       "\n",
       "   money_spent state_name district state_dist  perc_vote_max  \n",
       "0      1859349         AL       01       AL01           64.9  \n",
       "1        78973         AL       01       AL01           64.9  \n",
       "2       669368         AL       02       AL02           65.3  \n",
       "3        55988         AL       02       AL02           65.3  \n",
       "4      1218564         AL       03       AL03           67.5  "
      ]
     },
     "execution_count": 125,
     "metadata": {},
     "output_type": "execute_result"
    }
   ],
   "source": [
    "candidates = pd.merge(candidates, winners[['perc_vote_max', 'state_dist']], on = 'state_dist')\n",
    "candidates.head()"
   ]
  },
  {
   "cell_type": "code",
   "execution_count": 131,
   "metadata": {},
   "outputs": [],
   "source": [
    "# loop to add winner_bool column\n",
    "# if district in ['IA02', 'CA25'] then winner_bool = winner\n",
    "# else if perc_vote == perc_vote_max then winner_bool = 1\n",
    "# else if perc_vote != perc_vote_max then winner_bool = 0\n",
    "\n",
    "winner_bool = []\n",
    "\n",
    "for index, row in candidates.iterrows():\n",
    "    if row['state_dist'] in ['IA02', 'CA25']:\n",
    "        winner_bool.append(row['winner'])\n",
    "    elif row['perc_vote'] == row['perc_vote_max']:\n",
    "        winner_bool.append(1)\n",
    "    else:\n",
    "        winner_bool.append(0)\n",
    "\n",
    "candidates['winner_bool'] = winner_bool\n",
    "# I was struggling with the same thing in the scraping, look in that notebook for how to make this work\n",
    "\n",
    "# url_list = []\n",
    "\n",
    "# for r in range(len(st_rep)):\n",
    "#     abbr = st_rep.loc[r]['state_abbr']\n",
    "#     rep_num = st_rep.loc[r]['seats']\n",
    "\n",
    "#     for d in range(1, rep_num + 1):\n",
    "#         url = f\"{url_base}{abbr}{str(d).zfill(2)}{url_suffix}\"\n",
    "#         url_list.append(url)"
   ]
  },
  {
   "cell_type": "code",
   "execution_count": 132,
   "metadata": {},
   "outputs": [
    {
     "data": {
      "text/plain": [
       "0    450\n",
       "1    433\n",
       "Name: winner_bool, dtype: int64"
      ]
     },
     "execution_count": 132,
     "metadata": {},
     "output_type": "execute_result"
    }
   ],
   "source": [
    "candidates['winner_bool'].value_counts()"
   ]
  },
  {
   "cell_type": "code",
   "execution_count": 133,
   "metadata": {},
   "outputs": [],
   "source": [
    "candidates_winner = candidates.loc[candidates['winner_bool'] == 1]"
   ]
  },
  {
   "cell_type": "code",
   "execution_count": 134,
   "metadata": {},
   "outputs": [
    {
     "data": {
      "text/plain": [
       "AL01    1\n",
       "NC04    1\n",
       "OH01    1\n",
       "ND01    1\n",
       "NC13    1\n",
       "       ..\n",
       "IL10    1\n",
       "IL09    1\n",
       "IL08    1\n",
       "IL07    1\n",
       "WY01    1\n",
       "Name: state_dist, Length: 433, dtype: int64"
      ]
     },
     "execution_count": 134,
     "metadata": {},
     "output_type": "execute_result"
    }
   ],
   "source": [
    "candidates_winner['state_dist'].value_counts()"
   ]
  },
  {
   "cell_type": "code",
   "execution_count": 85,
   "metadata": {},
   "outputs": [
    {
     "data": {
      "text/html": [
       "<div>\n",
       "<style scoped>\n",
       "    .dataframe tbody tr th:only-of-type {\n",
       "        vertical-align: middle;\n",
       "    }\n",
       "\n",
       "    .dataframe tbody tr th {\n",
       "        vertical-align: top;\n",
       "    }\n",
       "\n",
       "    .dataframe thead th {\n",
       "        text-align: right;\n",
       "    }\n",
       "</style>\n",
       "<table border=\"1\" class=\"dataframe\">\n",
       "  <thead>\n",
       "    <tr style=\"text-align: right;\">\n",
       "      <th></th>\n",
       "      <th>candidate_name</th>\n",
       "      <th>party</th>\n",
       "      <th>incumbent</th>\n",
       "      <th>winner</th>\n",
       "      <th>perc_vote</th>\n",
       "      <th>money_raised</th>\n",
       "      <th>money_spent</th>\n",
       "      <th>state_name</th>\n",
       "      <th>district</th>\n",
       "      <th>state_dist</th>\n",
       "      <th>perc_vote_max</th>\n",
       "      <th>winner_bool</th>\n",
       "    </tr>\n",
       "  </thead>\n",
       "  <tbody>\n",
       "    <tr>\n",
       "      <th>327</th>\n",
       "      <td>Rita Hart</td>\n",
       "      <td>D</td>\n",
       "      <td>0</td>\n",
       "      <td>0</td>\n",
       "      <td>50.0</td>\n",
       "      <td>4232992</td>\n",
       "      <td>4114400</td>\n",
       "      <td>IA</td>\n",
       "      <td>02</td>\n",
       "      <td>IA02</td>\n",
       "      <td>50.0</td>\n",
       "      <td>1</td>\n",
       "    </tr>\n",
       "    <tr>\n",
       "      <th>328</th>\n",
       "      <td>Mariannette Miller-Meeks</td>\n",
       "      <td>R</td>\n",
       "      <td>0</td>\n",
       "      <td>1</td>\n",
       "      <td>50.0</td>\n",
       "      <td>2174194</td>\n",
       "      <td>1721926</td>\n",
       "      <td>IA</td>\n",
       "      <td>02</td>\n",
       "      <td>IA02</td>\n",
       "      <td>50.0</td>\n",
       "      <td>1</td>\n",
       "    </tr>\n",
       "  </tbody>\n",
       "</table>\n",
       "</div>"
      ],
      "text/plain": [
       "               candidate_name party  incumbent  winner  perc_vote  \\\n",
       "327                 Rita Hart     D          0       0       50.0   \n",
       "328  Mariannette Miller-Meeks     R          0       1       50.0   \n",
       "\n",
       "     money_raised  money_spent state_name district state_dist  perc_vote_max  \\\n",
       "327       4232992      4114400         IA       02       IA02           50.0   \n",
       "328       2174194      1721926         IA       02       IA02           50.0   \n",
       "\n",
       "     winner_bool  \n",
       "327            1  \n",
       "328            1  "
      ]
     },
     "execution_count": 85,
     "metadata": {},
     "output_type": "execute_result"
    }
   ],
   "source": [
    "candidates_winner.loc[candidates_winner['state_dist'] == 'IA02']"
   ]
  },
  {
   "cell_type": "code",
   "execution_count": 135,
   "metadata": {},
   "outputs": [
    {
     "data": {
      "text/html": [
       "<div>\n",
       "<style scoped>\n",
       "    .dataframe tbody tr th:only-of-type {\n",
       "        vertical-align: middle;\n",
       "    }\n",
       "\n",
       "    .dataframe tbody tr th {\n",
       "        vertical-align: top;\n",
       "    }\n",
       "\n",
       "    .dataframe thead th {\n",
       "        text-align: right;\n",
       "    }\n",
       "</style>\n",
       "<table border=\"1\" class=\"dataframe\">\n",
       "  <thead>\n",
       "    <tr style=\"text-align: right;\">\n",
       "      <th></th>\n",
       "      <th>candidate_name</th>\n",
       "      <th>party</th>\n",
       "      <th>incumbent</th>\n",
       "      <th>winner</th>\n",
       "      <th>perc_vote</th>\n",
       "      <th>money_raised</th>\n",
       "      <th>money_spent</th>\n",
       "      <th>state_name</th>\n",
       "      <th>district</th>\n",
       "      <th>state_dist</th>\n",
       "      <th>perc_vote_max</th>\n",
       "      <th>winner_bool</th>\n",
       "    </tr>\n",
       "  </thead>\n",
       "  <tbody>\n",
       "    <tr>\n",
       "      <th>0</th>\n",
       "      <td>Jerry Carl</td>\n",
       "      <td>R</td>\n",
       "      <td>0</td>\n",
       "      <td>1</td>\n",
       "      <td>64.9</td>\n",
       "      <td>1971321</td>\n",
       "      <td>1859349</td>\n",
       "      <td>AL</td>\n",
       "      <td>01</td>\n",
       "      <td>AL01</td>\n",
       "      <td>64.9</td>\n",
       "      <td>1</td>\n",
       "    </tr>\n",
       "    <tr>\n",
       "      <th>1</th>\n",
       "      <td>James Averhart</td>\n",
       "      <td>D</td>\n",
       "      <td>0</td>\n",
       "      <td>0</td>\n",
       "      <td>35.0</td>\n",
       "      <td>80095</td>\n",
       "      <td>78973</td>\n",
       "      <td>AL</td>\n",
       "      <td>01</td>\n",
       "      <td>AL01</td>\n",
       "      <td>64.9</td>\n",
       "      <td>0</td>\n",
       "    </tr>\n",
       "    <tr>\n",
       "      <th>2</th>\n",
       "      <td>Barry Moore</td>\n",
       "      <td>R</td>\n",
       "      <td>0</td>\n",
       "      <td>1</td>\n",
       "      <td>65.3</td>\n",
       "      <td>650807</td>\n",
       "      <td>669368</td>\n",
       "      <td>AL</td>\n",
       "      <td>02</td>\n",
       "      <td>AL02</td>\n",
       "      <td>65.3</td>\n",
       "      <td>1</td>\n",
       "    </tr>\n",
       "    <tr>\n",
       "      <th>3</th>\n",
       "      <td>Phyllis Harvey-Hall</td>\n",
       "      <td>D</td>\n",
       "      <td>0</td>\n",
       "      <td>0</td>\n",
       "      <td>34.6</td>\n",
       "      <td>56050</td>\n",
       "      <td>55988</td>\n",
       "      <td>AL</td>\n",
       "      <td>02</td>\n",
       "      <td>AL02</td>\n",
       "      <td>65.3</td>\n",
       "      <td>0</td>\n",
       "    </tr>\n",
       "    <tr>\n",
       "      <th>4</th>\n",
       "      <td>Mike D Rogers</td>\n",
       "      <td>R</td>\n",
       "      <td>1</td>\n",
       "      <td>1</td>\n",
       "      <td>67.5</td>\n",
       "      <td>1193111</td>\n",
       "      <td>1218564</td>\n",
       "      <td>AL</td>\n",
       "      <td>03</td>\n",
       "      <td>AL03</td>\n",
       "      <td>67.5</td>\n",
       "      <td>1</td>\n",
       "    </tr>\n",
       "  </tbody>\n",
       "</table>\n",
       "</div>"
      ],
      "text/plain": [
       "        candidate_name party  incumbent  winner  perc_vote  money_raised  \\\n",
       "0           Jerry Carl     R          0       1       64.9       1971321   \n",
       "1       James Averhart     D          0       0       35.0         80095   \n",
       "2          Barry Moore     R          0       1       65.3        650807   \n",
       "3  Phyllis Harvey-Hall     D          0       0       34.6         56050   \n",
       "4        Mike D Rogers     R          1       1       67.5       1193111   \n",
       "\n",
       "   money_spent state_name district state_dist  perc_vote_max  winner_bool  \n",
       "0      1859349         AL       01       AL01           64.9            1  \n",
       "1        78973         AL       01       AL01           64.9            0  \n",
       "2       669368         AL       02       AL02           65.3            1  \n",
       "3        55988         AL       02       AL02           65.3            0  \n",
       "4      1218564         AL       03       AL03           67.5            1  "
      ]
     },
     "execution_count": 135,
     "metadata": {},
     "output_type": "execute_result"
    }
   ],
   "source": [
    "candidates.head()"
   ]
  },
  {
   "cell_type": "code",
   "execution_count": 136,
   "metadata": {},
   "outputs": [],
   "source": [
    "candidates.to_csv('../data/candidates_clean.csv', index = False)"
   ]
  },
  {
   "cell_type": "code",
   "execution_count": null,
   "metadata": {},
   "outputs": [],
   "source": []
  }
 ],
 "metadata": {
  "kernelspec": {
   "display_name": "base",
   "language": "python",
   "name": "python3"
  },
  "language_info": {
   "codemirror_mode": {
    "name": "ipython",
    "version": 3
   },
   "file_extension": ".py",
   "mimetype": "text/x-python",
   "name": "python",
   "nbconvert_exporter": "python",
   "pygments_lexer": "ipython3",
   "version": "3.11.4"
  },
  "orig_nbformat": 4
 },
 "nbformat": 4,
 "nbformat_minor": 2
}
