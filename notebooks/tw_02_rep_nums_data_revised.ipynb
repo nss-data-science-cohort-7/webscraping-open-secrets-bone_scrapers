{
 "cells": [
  {
   "cell_type": "code",
   "execution_count": 2,
   "metadata": {},
   "outputs": [],
   "source": [
    "import pandas as pd\n",
    "import requests\n",
    "from bs4 import BeautifulSoup"
   ]
  },
  {
   "cell_type": "code",
   "execution_count": 3,
   "metadata": {},
   "outputs": [],
   "source": [
    "url = 'https://en.wikipedia.org/wiki/2020_United_States_House_of_Representatives_elections'"
   ]
  },
  {
   "cell_type": "code",
   "execution_count": 4,
   "metadata": {},
   "outputs": [],
   "source": [
    "response = requests.get(url)"
   ]
  },
  {
   "cell_type": "code",
   "execution_count": 5,
   "metadata": {},
   "outputs": [],
   "source": [
    "soup = BeautifulSoup(response.text)"
   ]
  },
  {
   "cell_type": "code",
   "execution_count": 6,
   "metadata": {},
   "outputs": [],
   "source": [
    "soup_df = pd.read_html(str(soup.find('table', attrs = {'class': 'wikitable', 'class': 'sortable'})))[0].drop(50)"
   ]
  },
  {
   "cell_type": "code",
   "execution_count": 7,
   "metadata": {},
   "outputs": [],
   "source": [
    "soup_df.columns = ['state', 'seats', 'dem_seats', 'dem_change', 'rep_seats', 'rep_change']"
   ]
  },
  {
   "cell_type": "code",
   "execution_count": 8,
   "metadata": {},
   "outputs": [],
   "source": [
    "state_dist = soup_df.drop(['dem_seats', 'dem_change', 'rep_seats', 'rep_change'], axis = 1)"
   ]
  },
  {
   "cell_type": "code",
   "execution_count": 9,
   "metadata": {},
   "outputs": [],
   "source": [
    "# need list of state abbreviations\n",
    "\n",
    "abb_url = 'https://www.yourdictionary.com/articles/state-abbreviations'\n",
    "\n",
    "abb_res = requests.get(abb_url)\n",
    "\n",
    "abb_soup = BeautifulSoup(abb_res.text)"
   ]
  },
  {
   "cell_type": "code",
   "execution_count": 10,
   "metadata": {},
   "outputs": [],
   "source": [
    "state_abb = pd.read_html(str(abb_soup.find('table')), header = 0)[0].drop('Traditional Abbreviation', axis = 1)"
   ]
  },
  {
   "cell_type": "code",
   "execution_count": 11,
   "metadata": {},
   "outputs": [
    {
     "name": "stdout",
     "output_type": "stream",
     "text": [
      "Index(['state', 'seats'], dtype='object')\n",
      "Index(['State Name', 'USPS Abbreviation'], dtype='object')\n"
     ]
    }
   ],
   "source": [
    "print(state_dist.columns)\n",
    "print(state_abb.columns)"
   ]
  },
  {
   "cell_type": "code",
   "execution_count": 12,
   "metadata": {},
   "outputs": [
    {
     "data": {
      "text/html": [
       "<div>\n",
       "<style scoped>\n",
       "    .dataframe tbody tr th:only-of-type {\n",
       "        vertical-align: middle;\n",
       "    }\n",
       "\n",
       "    .dataframe tbody tr th {\n",
       "        vertical-align: top;\n",
       "    }\n",
       "\n",
       "    .dataframe thead th {\n",
       "        text-align: right;\n",
       "    }\n",
       "</style>\n",
       "<table border=\"1\" class=\"dataframe\">\n",
       "  <thead>\n",
       "    <tr style=\"text-align: right;\">\n",
       "      <th></th>\n",
       "      <th>state</th>\n",
       "      <th>seats</th>\n",
       "      <th>state_abbr</th>\n",
       "    </tr>\n",
       "  </thead>\n",
       "  <tbody>\n",
       "    <tr>\n",
       "      <th>0</th>\n",
       "      <td>Alabama</td>\n",
       "      <td>7</td>\n",
       "      <td>AL</td>\n",
       "    </tr>\n",
       "  </tbody>\n",
       "</table>\n",
       "</div>"
      ],
      "text/plain": [
       "     state  seats state_abbr\n",
       "0  Alabama      7         AL"
      ]
     },
     "execution_count": 12,
     "metadata": {},
     "output_type": "execute_result"
    }
   ],
   "source": [
    "# join state_dist to state_abb\n",
    "\n",
    "st_rep = pd.merge(state_dist, state_abb, left_on = 'state', right_on = 'State Name', how = 'inner')\\\n",
    "    .drop('State Name', axis = 1).rename({'USPS Abbreviation': 'state_abbr'}, axis = 1)\n",
    "\n",
    "st_rep.head(1)"
   ]
  },
  {
   "cell_type": "code",
   "execution_count": 13,
   "metadata": {},
   "outputs": [],
   "source": [
    "# example url\n",
    "# https://www.opensecrets.org/races/candidates?cycle=2020&id=TN07&spec=N.\n",
    "\n",
    "url_base = 'https://www.opensecrets.org/races/candidates?cycle=2020&id='\n",
    "url_suffix = '&spec=N'\n",
    "\n",
    "url_list = []\n",
    "\n",
    "for r in range(len(st_rep)):\n",
    "    abbr = st_rep.loc[r]['state_abbr']\n",
    "    rep_num = st_rep.loc[r]['seats']\n",
    "\n",
    "    for d in range(1, rep_num + 1):\n",
    "        url = f\"{url_base}{abbr}{str(d).zfill(2)}{url_suffix}\"\n",
    "        url_list.append(url)"
   ]
  },
  {
   "cell_type": "code",
   "execution_count": 17,
   "metadata": {},
   "outputs": [],
   "source": [
    "pd.DataFrame(url_list, columns = ['url']).to_csv('../data/dist_urls.csv', index = False)"
   ]
  },
  {
   "cell_type": "code",
   "execution_count": null,
   "metadata": {},
   "outputs": [],
   "source": []
  }
 ],
 "metadata": {
  "kernelspec": {
   "display_name": "base",
   "language": "python",
   "name": "python3"
  },
  "language_info": {
   "codemirror_mode": {
    "name": "ipython",
    "version": 3
   },
   "file_extension": ".py",
   "mimetype": "text/x-python",
   "name": "python",
   "nbconvert_exporter": "python",
   "pygments_lexer": "ipython3",
   "version": "3.11.4"
  },
  "orig_nbformat": 4
 },
 "nbformat": 4,
 "nbformat_minor": 2
}
