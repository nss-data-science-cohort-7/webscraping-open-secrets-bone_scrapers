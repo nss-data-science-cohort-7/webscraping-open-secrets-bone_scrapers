{
 "cells": [
  {
   "cell_type": "code",
   "execution_count": 89,
   "metadata": {},
   "outputs": [],
   "source": [
    "\n",
    "url = \"https://www.opensecrets.org/races/candidates?cycle=2020&id=TN07&spec=N\"\n",
    "import pandas as pd\n",
    "import requests\n",
    "import re\n",
    "from bs4 import BeautifulSoup\n",
    "page = requests.get(url)\n",
    "soup = BeautifulSoup(page.content, \"html.parser\")\n",
    "\n",
    "Members = soup.findAll(class_ = 'Members--bio u-richtext')\n",
    "state_district = soup.findAll(class_ = 'Hero-title')\n",
    "Money = soup.findAll(class_ = 'Members--number')\n"
   ]
  },
  {
   "cell_type": "code",
   "execution_count": 2,
   "metadata": {},
   "outputs": [],
   "source": [
    "def get_candidate_names(Members):\n",
    "    members_list = []\n",
    "    member_affiliation = []\n",
    "\n",
    "    for i in range(len(Members)):\n",
    "        if i == 0:\n",
    "            name_affiliation = Members[0].text\n",
    "            members_list.append(\n",
    "                re.split(r\"[\\t\\n()]\", name_affiliation)[2].strip()\n",
    "            )\n",
    "            member_affiliation.append(\n",
    "                re.split(r\"[\\t\\n()]\", name_affiliation)[3].strip()\n",
    "            )\n",
    "        else:\n",
    "            \n",
    "            name_affiliation = Members[i].text\n",
    "            members_list.append(\n",
    "                re.split(r\"[\\t()]\", name_affiliation)[10].strip()\n",
    "                )\n",
    "            member_affiliation.append(\n",
    "                re.split(r\"[\\t()]\", name_affiliation)[11].strip()\n",
    "                )\n",
    "    return members_list, member_affiliation\n"
   ]
  },
  {
   "cell_type": "code",
   "execution_count": 3,
   "metadata": {},
   "outputs": [],
   "source": [
    "def get_incumbent(Members):    \n",
    "    list = []\n",
    "    for th in Members:\n",
    "     #print(th.text.strip())\n",
    "        list.append(re.split(r\"[\\t\\n()]\", th.text))\n",
    "    incumbent_list = []\n",
    "    for i in range(len(list)):\n",
    "        if any(\"Incumbent\" in item for item in list[i]):\n",
    "            incumbent_list.append(1)\n",
    "        else:\n",
    "            incumbent_list.append(0)\n",
    "    return incumbent_list"
   ]
  },
  {
   "cell_type": "code",
   "execution_count": 4,
   "metadata": {},
   "outputs": [],
   "source": [
    "def get_percentage(Members):\n",
    "    list = []\n",
    "    for th in Members:\n",
    "     #print(th.text.strip())\n",
    "        list.append(re.split(r\"[()]\", th.text))\n",
    "    incumbent_list = []\n",
    "    for i in range(len(list)):\n",
    "        incumbent_list.append(\n",
    "            list[i][3]\n",
    "            )\n",
    "    return incumbent_list"
   ]
  },
  {
   "cell_type": "code",
   "execution_count": 5,
   "metadata": {},
   "outputs": [],
   "source": [
    "def get_winner(Members):\n",
    "    percent_num = []\n",
    "    for i in range(len(percentage_list)):\n",
    "        percent_num.append(float(percentage_list[i].split(\"%\")[0]))\n",
    "    \n",
    "    winner_list = []\n",
    "    for i in range(len(percent_num)):\n",
    "        if percent_num[i] == max(percent_num):\n",
    "            winner_list.append(1)\n",
    "        else:\n",
    "            winner_list.append(0)\n",
    "    return winner_list\n",
    "\n",
    "\n"
   ]
  },
  {
   "cell_type": "code",
   "execution_count": 51,
   "metadata": {},
   "outputs": [],
   "source": [
    "def get_state_district(state_district):\n",
    "    state_list = []\n",
    "    district_list = []\n",
    "    for i in range(len(Members)):\n",
    "        state_list.append(state_district[0].text.split()[0])\n",
    "        district_list.append(state_district[0].text.split()[2])\n",
    "\n",
    "    return state_list, district_list"
   ]
  },
  {
   "cell_type": "code",
   "execution_count": 99,
   "metadata": {},
   "outputs": [],
   "source": [
    "def get_money_details(Money):\n",
    "    Money_list = []\n",
    "    for i in range(len(Money)):\n",
    "        Money_list.append(float(re.sub(\",\",\"\", Money[i].text.split(\"$\")[1])))\n",
    "    Money_raised = Money_list[0::3]\n",
    "    Money_spent = Money_list[1::3]\n",
    "    return Money_raised, Money_spent"
   ]
  },
  {
   "cell_type": "code",
   "execution_count": 101,
   "metadata": {},
   "outputs": [],
   "source": [
    "incumbent_list = get_incumbent(Members)\n",
    "percentage_list = get_percentage(Members)\n",
    "winner_list = get_winner(Members)\n",
    "candidate_list = get_candidate_names(Members)\n",
    "state_list = get_state_district(state_district)[0]\n",
    "district_list = get_state_district(state_district)[1]\n",
    "Money_details = get_money_details(Money)"
   ]
  },
  {
   "cell_type": "code",
   "execution_count": 53,
   "metadata": {},
   "outputs": [
    {
     "data": {
      "text/plain": [
       "['Tennessee', 'Tennessee', 'Tennessee', 'Tennessee']"
      ]
     },
     "execution_count": 53,
     "metadata": {},
     "output_type": "execute_result"
    }
   ],
   "source": [
    "state_list"
   ]
  },
  {
   "cell_type": "code",
   "execution_count": 102,
   "metadata": {},
   "outputs": [],
   "source": [
    "candidate_df = pd.DataFrame({\"Candidate Name\" : candidate_list[0],\n",
    "                             \"Affiliation\" : candidate_list[1],\n",
    "                             \"Incumbent\": incumbent_list,\n",
    "                             \"Percentage of Vote\" : percentage_list,\n",
    "                             \"Winner\" : winner_list,\n",
    "                             \"State\": state_list,\n",
    "                             \"District\" : district_list,\n",
    "                             \"Money Raised\": Money_details[0],\n",
    "                             \"Money Spent\": Money_details[1]}\n",
    "                             )"
   ]
  },
  {
   "cell_type": "code",
   "execution_count": 103,
   "metadata": {},
   "outputs": [
    {
     "data": {
      "text/html": [
       "<div>\n",
       "<style scoped>\n",
       "    .dataframe tbody tr th:only-of-type {\n",
       "        vertical-align: middle;\n",
       "    }\n",
       "\n",
       "    .dataframe tbody tr th {\n",
       "        vertical-align: top;\n",
       "    }\n",
       "\n",
       "    .dataframe thead th {\n",
       "        text-align: right;\n",
       "    }\n",
       "</style>\n",
       "<table border=\"1\" class=\"dataframe\">\n",
       "  <thead>\n",
       "    <tr style=\"text-align: right;\">\n",
       "      <th></th>\n",
       "      <th>Candidate Name</th>\n",
       "      <th>Affiliation</th>\n",
       "      <th>Incumbent</th>\n",
       "      <th>Percentage of Vote</th>\n",
       "      <th>Winner</th>\n",
       "      <th>State</th>\n",
       "      <th>District</th>\n",
       "      <th>Money Raised</th>\n",
       "      <th>Money Spent</th>\n",
       "    </tr>\n",
       "  </thead>\n",
       "  <tbody>\n",
       "    <tr>\n",
       "      <th>0</th>\n",
       "      <td>Mark Green</td>\n",
       "      <td>R</td>\n",
       "      <td>1</td>\n",
       "      <td>69.9% of vote</td>\n",
       "      <td>1</td>\n",
       "      <td>Tennessee</td>\n",
       "      <td>07</td>\n",
       "      <td>1194960.0</td>\n",
       "      <td>935487.0</td>\n",
       "    </tr>\n",
       "    <tr>\n",
       "      <th>1</th>\n",
       "      <td>Kiran Sreepada</td>\n",
       "      <td>D</td>\n",
       "      <td>0</td>\n",
       "      <td>27.3% of vote</td>\n",
       "      <td>0</td>\n",
       "      <td>Tennessee</td>\n",
       "      <td>07</td>\n",
       "      <td>206644.0</td>\n",
       "      <td>207191.0</td>\n",
       "    </tr>\n",
       "    <tr>\n",
       "      <th>2</th>\n",
       "      <td>Ronald Brown</td>\n",
       "      <td>I</td>\n",
       "      <td>0</td>\n",
       "      <td>2.2% of vote</td>\n",
       "      <td>0</td>\n",
       "      <td>Tennessee</td>\n",
       "      <td>07</td>\n",
       "      <td>1750.0</td>\n",
       "      <td>0.0</td>\n",
       "    </tr>\n",
       "    <tr>\n",
       "      <th>3</th>\n",
       "      <td>Scott Vieira Jr</td>\n",
       "      <td>I</td>\n",
       "      <td>0</td>\n",
       "      <td>0.6% of vote</td>\n",
       "      <td>0</td>\n",
       "      <td>Tennessee</td>\n",
       "      <td>07</td>\n",
       "      <td>655.0</td>\n",
       "      <td>1049.0</td>\n",
       "    </tr>\n",
       "  </tbody>\n",
       "</table>\n",
       "</div>"
      ],
      "text/plain": [
       "    Candidate Name Affiliation  Incumbent Percentage of Vote  Winner  \\\n",
       "0       Mark Green           R          1      69.9% of vote       1   \n",
       "1   Kiran Sreepada           D          0      27.3% of vote       0   \n",
       "2     Ronald Brown           I          0       2.2% of vote       0   \n",
       "3  Scott Vieira Jr           I          0       0.6% of vote       0   \n",
       "\n",
       "       State District  Money Raised  Money Spent  \n",
       "0  Tennessee       07     1194960.0     935487.0  \n",
       "1  Tennessee       07      206644.0     207191.0  \n",
       "2  Tennessee       07        1750.0          0.0  \n",
       "3  Tennessee       07         655.0       1049.0  "
      ]
     },
     "execution_count": 103,
     "metadata": {},
     "output_type": "execute_result"
    }
   ],
   "source": [
    "candidate_df"
   ]
  },
  {
   "cell_type": "code",
   "execution_count": 113,
   "metadata": {},
   "outputs": [
    {
     "data": {
      "text/plain": [
       "['https://www.opensecrets.org/races/candidates?cycle=2020&id=TN01&spec=N',\n",
       " 'https://www.opensecrets.org/races/candidates?cycle=2020&id=TN02&spec=N',\n",
       " 'https://www.opensecrets.org/races/candidates?cycle=2020&id=TN03&spec=N',\n",
       " 'https://www.opensecrets.org/races/candidates?cycle=2020&id=TN04&spec=N',\n",
       " 'https://www.opensecrets.org/races/candidates?cycle=2020&id=TN05&spec=N',\n",
       " 'https://www.opensecrets.org/races/candidates?cycle=2020&id=TN06&spec=N',\n",
       " 'https://www.opensecrets.org/races/candidates?cycle=2020&id=TN07&spec=N',\n",
       " 'https://www.opensecrets.org/races/candidates?cycle=2020&id=TN08&spec=N',\n",
       " 'https://www.opensecrets.org/races/candidates?cycle=2020&id=TN09&spec=N']"
      ]
     },
     "execution_count": 113,
     "metadata": {},
     "output_type": "execute_result"
    }
   ],
   "source": [
    "\n",
    "url_list = []\n",
    "for i in range(1,10):\n",
    "    url_list.append(f\"https://www.opensecrets.org/races/candidates?cycle=2020&id=TN0{i}&spec=N\")\n",
    "url_list"
   ]
  },
  {
   "cell_type": "code",
   "execution_count": null,
   "metadata": {},
   "outputs": [],
   "source": []
  }
 ],
 "metadata": {
  "kernelspec": {
   "display_name": "base",
   "language": "python",
   "name": "python3"
  },
  "language_info": {
   "codemirror_mode": {
    "name": "ipython",
    "version": 3
   },
   "file_extension": ".py",
   "mimetype": "text/x-python",
   "name": "python",
   "nbconvert_exporter": "python",
   "pygments_lexer": "ipython3",
   "version": "3.11.5"
  }
 },
 "nbformat": 4,
 "nbformat_minor": 2
}
